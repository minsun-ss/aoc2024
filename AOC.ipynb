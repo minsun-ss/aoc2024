{
 "cells": [
  {
   "cell_type": "code",
   "execution_count": 15,
   "id": "906354cc-e75f-4d3a-adca-355312449412",
   "metadata": {},
   "outputs": [
    {
     "data": {
      "text/plain": [
       "1603498"
      ]
     },
     "execution_count": 15,
     "metadata": {},
     "output_type": "execute_result"
    }
   ],
   "source": [
    "result = [int(i.split()[0]) for i in open('data/day1.txt').read().split(\"\\n\") if i != \"\"]\n",
    "result2 = [int(i.split()[1]) for i in open('data/day1.txt').read().split(\"\\n\") if i != \"\"]\n",
    "\n",
    "sum([abs(i-j) for i, j in zip(sorted(result), sorted(result2))])"
   ]
  },
  {
   "cell_type": "code",
   "execution_count": 17,
   "id": "3fd44182-92a5-4cdd-8cc7-5e3a2d821aea",
   "metadata": {},
   "outputs": [
    {
     "data": {
      "text/plain": [
       "25574739"
      ]
     },
     "execution_count": 17,
     "metadata": {},
     "output_type": "execute_result"
    }
   ],
   "source": [
    "total = 0\n",
    "\n",
    "for i in result:\n",
    "    counter = sum([1 for j in result2 if i==j])\n",
    "    total += i * counter\n",
    "\n",
    "total"
   ]
  },
  {
   "cell_type": "code",
   "execution_count": null,
   "id": "37c83c1a-ba51-4082-8fcd-7281fc30231c",
   "metadata": {},
   "outputs": [],
   "source": []
  }
 ],
 "metadata": {
  "kernelspec": {
   "display_name": "Python 3 (ipykernel)",
   "language": "python",
   "name": "python3"
  },
  "language_info": {
   "codemirror_mode": {
    "name": "ipython",
    "version": 3
   },
   "file_extension": ".py",
   "mimetype": "text/x-python",
   "name": "python",
   "nbconvert_exporter": "python",
   "pygments_lexer": "ipython3",
   "version": "3.13.0"
  }
 },
 "nbformat": 4,
 "nbformat_minor": 5
}
