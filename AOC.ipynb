{
 "cells": [
  {
   "cell_type": "code",
   "execution_count": 1,
   "id": "906354cc-e75f-4d3a-adca-355312449412",
   "metadata": {},
   "outputs": [
    {
     "data": {
      "text/plain": [
       "1603498"
      ]
     },
     "execution_count": 1,
     "metadata": {},
     "output_type": "execute_result"
    }
   ],
   "source": [
    "result = [int(i.split()[0]) for i in open('data/day1.txt').read().split(\"\\n\") if i != \"\"]\n",
    "result2 = [int(i.split()[1]) for i in open('data/day1.txt').read().split(\"\\n\") if i != \"\"]\n",
    "\n",
    "sum([abs(i-j) for i, j in zip(sorted(result), sorted(result2))])"
   ]
  },
  {
   "cell_type": "code",
   "execution_count": 2,
   "id": "3fd44182-92a5-4cdd-8cc7-5e3a2d821aea",
   "metadata": {},
   "outputs": [
    {
     "data": {
      "text/plain": [
       "25574739"
      ]
     },
     "execution_count": 2,
     "metadata": {},
     "output_type": "execute_result"
    }
   ],
   "source": [
    "total = 0\n",
    "\n",
    "for i in result:\n",
    "    counter = sum([1 for j in result2 if i==j])\n",
    "    total += i * counter\n",
    "\n",
    "total"
   ]
  },
  {
   "cell_type": "code",
   "execution_count": 27,
   "id": "37c83c1a-ba51-4082-8fcd-7281fc30231c",
   "metadata": {},
   "outputs": [
    {
     "data": {
      "text/plain": [
       "591"
      ]
     },
     "execution_count": 27,
     "metadata": {},
     "output_type": "execute_result"
    }
   ],
   "source": [
    "\n",
    "result = [[int(j) for j in i.split()] for i in open('data/day2.txt').read().split(\"\\n\") if i != \"\"]\n",
    "\n",
    "safe = []\n",
    "for row in result:\n",
    "    if row == sorted(row) or row == sorted(row, reverse=True):\n",
    "        # print(row)\n",
    "        unsafe = False\n",
    "        for a, b in zip(row, row[1:]):\n",
    "            if abs(a-b) > 3 or a==b:\n",
    "                # print(a, b)\n",
    "                unsafe = True\n",
    "                continue\n",
    "        if not unsafe:\n",
    "            # print(row)\n",
    "            safe.append(row)\n",
    "    else:\n",
    "        pass\n",
    "\n",
    "len(safe)"
   ]
  },
  {
   "cell_type": "code",
   "execution_count": 39,
   "id": "ee49e9eb-e2b4-4374-9056-e8b48748c665",
   "metadata": {},
   "outputs": [
    {
     "data": {
      "text/plain": [
       "621"
      ]
     },
     "execution_count": 39,
     "metadata": {},
     "output_type": "execute_result"
    }
   ],
   "source": [
    "\n",
    "result = [[int(j) for j in i.split()] for i in open('data/day2.txt').read().split(\"\\n\") if i != \"\"]\n",
    "\n",
    "def is_safe(row):\n",
    "    if row == sorted(row) or row == sorted(row, reverse=True):\n",
    "        # print(row)\n",
    "        unsafe = False\n",
    "        for a, b in zip(row, row[1:]):\n",
    "            if abs(a-b) > 3 or a==b:\n",
    "                # print(a, b)\n",
    "                unsafe = True\n",
    "                continue\n",
    "        if not unsafe:\n",
    "            # print(row)\n",
    "            return True\n",
    "    else:\n",
    "        return False\n",
    "        \n",
    "safe = []\n",
    "for row in result:\n",
    "    if is_safe(row):\n",
    "        safe.append(row)\n",
    "    else:\n",
    "        for i in range(len(row)):\n",
    "            subrow = row[:i]+row[i+1:]\n",
    "            if is_safe(subrow):\n",
    "                safe.append(row)\n",
    "                break\n",
    "\n",
    "len(safe)"
   ]
  },
  {
   "cell_type": "code",
   "execution_count": 50,
   "id": "3be76245-9122-4972-9197-a0f16e26b9ac",
   "metadata": {},
   "outputs": [
    {
     "data": {
      "text/plain": [
       "179834255"
      ]
     },
     "execution_count": 50,
     "metadata": {},
     "output_type": "execute_result"
    }
   ],
   "source": [
    "result = [i for i in open('data/day3.txt').read().split(\"\\n\") if i != \"\"]\n",
    "\n",
    "import re\n",
    "\n",
    "sum = 0\n",
    "for i in result:\n",
    "    val = re.findall(r\"mul\\(\\d+,\\d+\\)\", i)\n",
    "    for mul in val:\n",
    "        num1, num2 = mul.replace(\"mul(\", \"\").replace(\")\", \"\").split(\",\")\n",
    "        sum += int(num1) * int(num2)\n",
    "sum"
   ]
  },
  {
   "cell_type": "code",
   "execution_count": 55,
   "id": "500ca811-1410-488d-98b0-4f1299600046",
   "metadata": {},
   "outputs": [
    {
     "name": "stdout",
     "output_type": "stream",
     "text": [
      "mul(2,4)\n",
      "don't()\n",
      "mul(5,5)\n",
      "mul(11,8)\n",
      "do()\n",
      "mul(8,5)\n"
     ]
    }
   ],
   "source": [
    "result = [i for i in open('data/test.txt').read().split(\"\\n\") if i != \"\"]\n",
    "\n",
    "import re\n",
    "\n",
    "sum = 0\n",
    "do = True\n",
    "for i in result:\n",
    "    vals = re.findall(r\"mul\\(\\d+,\\d+\\)|do\\(\\)|don't\\(\\)\", i)\n",
    "    for val in vals:\n",
    "        if 'mul' in val and do:\n",
    "            num1, num2 = val.replace(\"mul(\", \"\").replace(\")\", \"\").split(\",\")\n",
    "            sum += int(num1) * int(num2)\n",
    "        elif val == \"don't()\":\n",
    "            do = False\n",
    "        elif val == \"do()\"\n",
    "\n",
    "sum"
   ]
  },
  {
   "cell_type": "code",
   "execution_count": null,
   "id": "fb90e5dc-592f-47eb-b70b-5f160317d68c",
   "metadata": {},
   "outputs": [],
   "source": []
  }
 ],
 "metadata": {
  "kernelspec": {
   "display_name": "Python 3 (ipykernel)",
   "language": "python",
   "name": "python3"
  },
  "language_info": {
   "codemirror_mode": {
    "name": "ipython",
    "version": 3
   },
   "file_extension": ".py",
   "mimetype": "text/x-python",
   "name": "python",
   "nbconvert_exporter": "python",
   "pygments_lexer": "ipython3",
   "version": "3.13.0"
  }
 },
 "nbformat": 4,
 "nbformat_minor": 5
}
