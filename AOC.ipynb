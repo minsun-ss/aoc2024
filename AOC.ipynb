{
 "cells": [
  {
   "cell_type": "code",
   "execution_count": 1,
   "id": "906354cc-e75f-4d3a-adca-355312449412",
   "metadata": {},
   "outputs": [
    {
     "data": {
      "text/plain": [
       "1603498"
      ]
     },
     "execution_count": 1,
     "metadata": {},
     "output_type": "execute_result"
    }
   ],
   "source": [
    "result = [int(i.split()[0]) for i in open('data/day1.txt').read().split(\"\\n\") if i != \"\"]\n",
    "result2 = [int(i.split()[1]) for i in open('data/day1.txt').read().split(\"\\n\") if i != \"\"]\n",
    "\n",
    "sum([abs(i-j) for i, j in zip(sorted(result), sorted(result2))])"
   ]
  },
  {
   "cell_type": "code",
   "execution_count": 2,
   "id": "3fd44182-92a5-4cdd-8cc7-5e3a2d821aea",
   "metadata": {},
   "outputs": [
    {
     "data": {
      "text/plain": [
       "25574739"
      ]
     },
     "execution_count": 2,
     "metadata": {},
     "output_type": "execute_result"
    }
   ],
   "source": [
    "total = 0\n",
    "\n",
    "for i in result:\n",
    "    counter = sum([1 for j in result2 if i==j])\n",
    "    total += i * counter\n",
    "\n",
    "total"
   ]
  },
  {
   "cell_type": "code",
   "execution_count": 27,
   "id": "37c83c1a-ba51-4082-8fcd-7281fc30231c",
   "metadata": {},
   "outputs": [
    {
     "data": {
      "text/plain": [
       "591"
      ]
     },
     "execution_count": 27,
     "metadata": {},
     "output_type": "execute_result"
    }
   ],
   "source": [
    "\n",
    "result = [[int(j) for j in i.split()] for i in open('data/day2.txt').read().split(\"\\n\") if i != \"\"]\n",
    "\n",
    "safe = []\n",
    "for row in result:\n",
    "    if row == sorted(row) or row == sorted(row, reverse=True):\n",
    "        # print(row)\n",
    "        unsafe = False\n",
    "        for a, b in zip(row, row[1:]):\n",
    "            if abs(a-b) > 3 or a==b:\n",
    "                # print(a, b)\n",
    "                unsafe = True\n",
    "                continue\n",
    "        if not unsafe:\n",
    "            # print(row)\n",
    "            safe.append(row)\n",
    "    else:\n",
    "        pass\n",
    "\n",
    "len(safe)"
   ]
  },
  {
   "cell_type": "code",
   "execution_count": 39,
   "id": "ee49e9eb-e2b4-4374-9056-e8b48748c665",
   "metadata": {},
   "outputs": [
    {
     "data": {
      "text/plain": [
       "621"
      ]
     },
     "execution_count": 39,
     "metadata": {},
     "output_type": "execute_result"
    }
   ],
   "source": [
    "\n",
    "result = [[int(j) for j in i.split()] for i in open('data/day2.txt').read().split(\"\\n\") if i != \"\"]\n",
    "\n",
    "def is_safe(row):\n",
    "    if row == sorted(row) or row == sorted(row, reverse=True):\n",
    "        # print(row)\n",
    "        unsafe = False\n",
    "        for a, b in zip(row, row[1:]):\n",
    "            if abs(a-b) > 3 or a==b:\n",
    "                # print(a, b)\n",
    "                unsafe = True\n",
    "                continue\n",
    "        if not unsafe:\n",
    "            # print(row)\n",
    "            return True\n",
    "    else:\n",
    "        return False\n",
    "        \n",
    "safe = []\n",
    "for row in result:\n",
    "    if is_safe(row):\n",
    "        safe.append(row)\n",
    "    else:\n",
    "        for i in range(len(row)):\n",
    "            subrow = row[:i]+row[i+1:]\n",
    "            if is_safe(subrow):\n",
    "                safe.append(row)\n",
    "                break\n",
    "\n",
    "len(safe)"
   ]
  },
  {
   "cell_type": "code",
   "execution_count": 50,
   "id": "3be76245-9122-4972-9197-a0f16e26b9ac",
   "metadata": {},
   "outputs": [
    {
     "data": {
      "text/plain": [
       "179834255"
      ]
     },
     "execution_count": 50,
     "metadata": {},
     "output_type": "execute_result"
    }
   ],
   "source": [
    "result = [i for i in open('data/day3.txt').read().split(\"\\n\") if i != \"\"]\n",
    "\n",
    "import re\n",
    "\n",
    "sum = 0\n",
    "for i in result:\n",
    "    val = re.findall(r\"mul\\(\\d+,\\d+\\)\", i)\n",
    "    for mul in val:\n",
    "        num1, num2 = mul.replace(\"mul(\", \"\").replace(\")\", \"\").split(\",\")\n",
    "        sum += int(num1) * int(num2)\n",
    "sum"
   ]
  },
  {
   "cell_type": "code",
   "execution_count": 2,
   "id": "500ca811-1410-488d-98b0-4f1299600046",
   "metadata": {},
   "outputs": [
    {
     "data": {
      "text/plain": [
       "0"
      ]
     },
     "execution_count": 2,
     "metadata": {},
     "output_type": "execute_result"
    }
   ],
   "source": [
    "result = [i for i in open('data/test.txt').read().split(\"\\n\") if i != \"\"]\n",
    "\n",
    "import re\n",
    "\n",
    "sum = 0\n",
    "do = True\n",
    "for i in result:\n",
    "    vals = re.findall(r\"mul\\(\\d+,\\d+\\)|do\\(\\)|don't\\(\\)\", i)\n",
    "    for val in vals:\n",
    "        if 'mul' in val and do:\n",
    "            num1, num2 = val.replace(\"mul(\", \"\").replace(\")\", \"\").split(\",\")\n",
    "            sum += int(num1) * int(num2)\n",
    "        elif val == \"don't()\":\n",
    "            do = False\n",
    "        elif val == \"do()\":\n",
    "            do = True\n",
    "sum"
   ]
  },
  {
   "cell_type": "code",
   "execution_count": 62,
   "id": "c84791af-3b80-43a9-a615-00f70c3ab903",
   "metadata": {},
   "outputs": [
    {
     "data": {
      "text/plain": [
       "2642"
      ]
     },
     "execution_count": 62,
     "metadata": {},
     "output_type": "execute_result"
    }
   ],
   "source": [
    "result = [i for i in open('data/day4.txt').read().split(\"\\n\") if i != \"\"]\n",
    "result\n",
    "\n",
    "def get_val(col, row):\n",
    "    return result[col][row]\n",
    "\n",
    "def check_letter(col, row, letter):\n",
    "    if col < 0 or col >= len(result):\n",
    "        return False\n",
    "    elif row < 0 or row >= len(result[0]):\n",
    "        return False\n",
    "    else:\n",
    "        v = get_val(col, row)\n",
    "        if v == letter:\n",
    "            return True\n",
    "        else:\n",
    "            return False\n",
    "            \n",
    "def find(col, row):\n",
    "    total = 0\n",
    "    horizontal = [[col, row+1], [col, row+2], [col, row+3]]\n",
    "    bhorizontal = [[col, row-1], [col, row-2], [col, row-3]]\n",
    "    vertical = [[col+1, row], [col+2, row], [col+3, row]]\n",
    "    bvertical = [[col-1, row], [col-2, row], [col-3, row]]\n",
    "    diagonal = [[col+1, row+1], [col+2, row+2], [col+3, row+3]]\n",
    "    bdiagonal = [[col-1, row-1], [col-2, row-2], [col-3, row-3]]\n",
    "    diagonal2 = [[col-1, row+1], [col-2, row+2], [col-3, row+3]]\n",
    "    bdiagonal2 = [[col+1, row-1], [col+2, row-2], [col+3, row-3]]\n",
    "\n",
    "    groups = [horizontal, bhorizontal, vertical, bvertical, diagonal, bdiagonal, diagonal2, bdiagonal2]\n",
    "\n",
    "    for group in groups:\n",
    "        a, b = group[0]\n",
    "        if check_letter(a, b, 'M'):\n",
    "            c, d = group[1]\n",
    "            if check_letter(c, d, 'A'):\n",
    "                e, f = group[2]\n",
    "                if check_letter(e, f, 'S'):\n",
    "                    total +=1\n",
    "    return total\n",
    "        \n",
    "sum = 0\n",
    "for col, data in enumerate(result):\n",
    "    for row, val in enumerate(data):\n",
    "        if val == 'X':\n",
    "            # print(\"find\", col, row)\n",
    "            res = find(col, row)\n",
    "            # print(res, col, row)\n",
    "            sum += res\n",
    "sum"
   ]
  },
  {
   "cell_type": "code",
   "execution_count": 7,
   "id": "31d6ea43-f8d0-49ba-a525-bcb9afb81a44",
   "metadata": {},
   "outputs": [
    {
     "data": {
      "text/plain": [
       "1327"
      ]
     },
     "execution_count": 7,
     "metadata": {},
     "output_type": "execute_result"
    }
   ],
   "source": [
    "result = [i for i in open('data/day4.txt').read().split(\"\\n\") if i != \"\"]\n",
    "result\n",
    "\n",
    "def get_val(col, row):\n",
    "    return result[col][row]\n",
    "\n",
    "def check_letter(col, row):\n",
    "    if col < 0 or col >= len(result):\n",
    "        return None\n",
    "    elif row < 0 or row >= len(result[0]):\n",
    "        return None\n",
    "    else:\n",
    "        v = get_val(col, row)\n",
    "        return v\n",
    "            \n",
    "def find(col, row):\n",
    "    total = 0\n",
    "    x = [[col-1, row-1], [col-1, row+1], [col+1, row+1], [col+1, row+1]]\n",
    "\n",
    "    result = [check_letter(i,j) for i, j in x]\n",
    "    # print(result)\n",
    "    if result in [['M', 'S', 'M', 'S'], ['S', 'M', 'S', 'M'], ['S', 'S', 'M', 'M'], ['M', 'M', 'S', 'S']]:\n",
    "        return True\n",
    "    else:\n",
    "        return False\n",
    "    \n",
    "sum = 0\n",
    "for col, data in enumerate(result):\n",
    "    for row, val in enumerate(data):\n",
    "        if val == 'A':\n",
    "            res = find(col, row)\n",
    "            if res:\n",
    "                sum += 1\n",
    "sum"
   ]
  },
  {
   "cell_type": "code",
   "execution_count": 30,
   "id": "dfd5ea70-1100-4668-839a-1ba759677a4c",
   "metadata": {},
   "outputs": [
    {
     "data": {
      "text/plain": [
       "4872"
      ]
     },
     "execution_count": 30,
     "metadata": {},
     "output_type": "execute_result"
    }
   ],
   "source": [
    "import math\n",
    "\n",
    "result = [i for i in open('data/day5.txt').read().split(\"\\n\") if i != \"\"]\n",
    "rules = [i.split('|') for i in result if '|' in i]\n",
    "numbers = [i.split(',') for i in result if '|' not in i]\n",
    "\n",
    "def is_valid(numlist):\n",
    "    for num in numlist:\n",
    "        for left, right in rules:\n",
    "            if num == left:\n",
    "                try:\n",
    "                    if numlist.index(num) < numlist.index(right):\n",
    "                        pass\n",
    "                    else:\n",
    "                        return False\n",
    "                except:\n",
    "                    pass\n",
    "    return True\n",
    "\n",
    "sum = 0\n",
    "for numlist in numbers:\n",
    "    if is_valid(numlist):\n",
    "        idx = math.ceil(len(numlist)/2) -1\n",
    "        # print(idx,numlist[idx])\n",
    "        sum += int(numlist[idx])\n",
    "    # print(numlist, is_valid(numlist))\n",
    "\n",
    "sum"
   ]
  },
  {
   "cell_type": "code",
   "execution_count": 41,
   "id": "f2fb687a-8c69-4466-9abc-b2e32aa5ad72",
   "metadata": {},
   "outputs": [
    {
     "name": "stdout",
     "output_type": "stream",
     "text": [
      "['65', '72', '69', '89', '59', '15', '87', '32', '56', '62', '98'] False\n",
      "['35', '47', '16', '94', '75', '86', '91', '69', '65', '15', '72', '89', '59', '99', '29', '53', '77', '49', '56', '38', '42', '83', '26'] False\n",
      "['69', '89', '15', '99', '29', '56', '83', '38', '61', '76', '11', '31', '97', '73', '87', '98', '42', '62', '55'] False\n",
      "['32', '11', '73', '79', '45', '34', '51', '95', '47', '24', '35', '94', '16', '55', '57'] False\n",
      "['73', '31', '33', '36', '57', '21', '24', '47', '16', '94', '86'] False\n",
      "['25', '17', '55', '33', '85', '24', '34', '45', '51', '57', '36', '95', '86', '79', '94', '75', '53', '16', '47'] False\n",
      "['27', '62', '98', '79', '36'] True\n",
      "['98', '33', '85', '36', '47', '79', '16', '21', '75'] False\n",
      "['61', '76', '11', '32', '17', '33', '45', '34', '36', '24', '64', '35', '21', '95', '47', '31', '98', '57', '55', '25', '79'] False\n",
      "['89', '59', '29', '61', '99', '25', '32', '31', '27', '33', '56', '55', '38'] False\n",
      "['64', '47', '16', '91', '65', '86', '89', '15', '72', '56', '69', '26', '42', '38', '97', '49', '53'] False\n",
      "['65', '72', '69', '15', '59', '56', '89', '38', '83', '62', '99', '61', '42', '49', '97', '11', '29', '98', '73', '32', '87', '25', '76'] False\n",
      "['85', '21', '95', '53', '89', '86', '15'] False\n",
      "['25', '55', '33', '34', '36', '95', '45', '51', '85', '75', '35', '94', '24', '53', '47'] False\n",
      "['85', '57', '16', '86', '21'] False\n",
      "['73', '25', '17', '34', '33', '95', '21', '64', '24', '79', '86'] False\n",
      "['76', '32', '11', '98', '36', '31', '17', '73', '34', '25', '21', '33', '95', '64', '51', '47', '45', '16', '57'] False\n",
      "['79', '21', '34', '51', '64', '35', '95', '86', '53', '94', '24'] False\n",
      "['75', '65', '72', '69', '49', '29', '56', '99', '26', '27', '62', '87', '91', '97', '32', '61', '59'] False\n",
      "['97', '38', '76', '62', '83', '55', '98', '24', '85', '79', '45'] False\n",
      "['34', '51', '64', '35', '47', '86', '16', '26', '72', '89', '91', '49', '15', '77', '69', '65', '59', '53', '99'] False\n",
      "['21', '57', '47', '49', '15', '59', '99', '29', '86'] False\n",
      "['29', '32', '98', '27', '33', '24', '76', '85', '73'] False\n",
      "['42', '38', '62', '83', '25', '97', '17', '56', '45', '33', '55', '36', '76'] False\n",
      "['33', '36', '85', '79', '21', '64', '75', '95', '51', '16', '77', '91', '47', '26', '72', '57', '65'] False\n",
      "['34', '21', '95', '47', '64', '94', '26', '49', '72', '89', '53', '57', '59'] False\n",
      "['45', '34', '95', '51', '57', '35', '16', '86', '75', '26', '77', '89', '69', '65', '15', '91', '99', '53', '94'] False\n",
      "['59', '27', '87', '11', '56', '76', '73', '55', '17', '61', '79'] False\n",
      "['25', '17', '33', '35', '75', '31', '36', '64', '79'] False\n",
      "['49', '69', '59', '56', '32', '31', '76'] False\n",
      "['98', '33', '79', '34', '94', '21', '16', '95', '77', '57', '45'] False\n",
      "['75', '53', '91', '72', '49', '89', '65', '69', '15', '56', '99', '38', '76', '87', '42', '26', '61', '97', '27', '59', '83'] False\n",
      "['91', '65', '15', '69', '29', '89', '38', '97', '27', '62', '76', '83', '99', '73', '72'] False\n",
      "['98', '17', '55', '79', '36', '45', '33', '31', '34', '51', '57', '47', '21', '95', '85', '77', '35', '94', '16', '75', '86'] False\n",
      "['45', '51', '94', '53', '57', '89', '99', '16', '72'] False\n",
      "['99', '59', '56', '38', '83', '27', '32', '11', '73', '98', '97', '17', '36', '62', '87', '55', '33', '31', '42'] False\n",
      "['98', '17', '31', '25', '55', '33', '36', '85', '21', '45', '57', '34', '24', '64', '79', '35', '77', '47', '95', '86', '51', '75', '94'] False\n",
      "['31', '55', '33', '45', '24', '21', '34', '51', '79', '95', '94', '75', '35', '64', '86', '16', '26', '47', '91', '57', '77'] False\n",
      "['36', '85', '57', '51', '75', '64', '91'] False\n",
      "['15', '59', '42', '97', '83', '56', '61', '32', '33', '98', '31', '76', '17', '62', '79'] False\n",
      "['15', '59', '29', '42', '56', '97', '76', '83', '32', '38', '11', '87', '31', '55', '62', '61', '98'] False\n",
      "['86', '75', '91', '53', '69', '89', '72', '99', '65', '15', '29', '87', '61', '76', '59', '49', '27', '83', '26', '38', '62', '56', '42'] False\n",
      "['83', '27', '32', '76', '11', '31', '25', '17', '24', '85', '51', '79', '98', '45', '95'] False\n",
      "['38', '83', '27', '61', '11', '98', '73', '25', '32', '17', '33', '55', '87', '36', '24', '45', '34', '21', '85', '31', '79'] False\n",
      "['56', '97', '38', '27', '62', '87', '76', '32', '11', '61', '73', '25', '83', '17', '31', '33', '55', '36', '98', '34', '45', '79', '85'] False\n",
      "['24', '21', '16', '95', '64', '94', '53', '26', '47', '91', '69', '75', '77', '57', '72', '65', '89'] False\n",
      "['95', '64', '57', '47', '77', '86', '69', '16', '91', '65', '72', '89', '15', '99', '59', '42', '53'] False\n",
      "['25', '17', '55', '33', '95', '31', '47', '35', '64', '36', '85', '75', '53', '77', '24', '16', '57'] False\n",
      "['62', '76', '98', '45', '36', '25', '51', '79', '64'] False\n",
      "['56', '38', '87', '62', '76', '61', '98', '17', '32', '31', '33', '55', '36', '73', '45', '79', '25'] False\n",
      "['57', '47', '16', '65', '86', '15', '59', '72', '42', '99', '29', '53', '97'] False\n",
      "['77', '86', '53', '91', '15', '89', '65', '49', '69', '59', '56', '27', '29', '42', '38', '26', '62', '61', '87'] False\n",
      "['69', '89', '59', '27', '31', '15', '11', '83', '17', '56', '55'] False\n",
      "['42', '83', '56', '76', '32', '17', '31', '38', '55', '62', '73', '11', '87', '33', '36', '24', '25', '85', '79', '98', '61', '45', '27'] False\n",
      "['49', '89', '29', '42', '15', '56', '83', '27', '76', '38', '97', '61', '87', '31', '17', '73', '62'] False\n",
      "['47', '91', '49', '16', '72', '69', '15', '89', '99'] False\n",
      "['38', '87', '76', '32', '61', '11', '83', '25', '31', '33', '85', '55', '98', '51', '45', '79', '34'] False\n",
      "['16', '94', '77', '53', '91', '49', '86', '75', '89', '15', '42', '65', '59', '83', '69', '29', '72', '56', '99', '97', '26', '27', '62'] False\n",
      "['91', '49', '72', '61', '76', '42', '38', '99', '73'] False\n",
      "['94', '77', '75', '86', '91', '89', '59', '29', '53', '56', '38', '69', '27', '42', '87', '62', '99', '26', '83'] False\n",
      "['17', '55', '36', '33', '45', '95', '57', '31', '77', '51', '47', '35', '64', '94', '86', '16', '75', '53', '91'] False\n",
      "['62', '87', '61', '76', '24', '55', '98', '25', '45', '21', '51', '57', '85'] False\n",
      "['61', '76', '73', '11', '25', '17', '55', '32', '98', '79', '34', '45', '51', '95', '47', '35', '64', '36', '24', '31', '21', '57', '85'] False\n",
      "['32', '11', '17', '31', '73', '79', '85', '21', '94', '55', '64', '24', '95', '34', '45'] False\n",
      "['47', '16', '86', '91', '65', '72', '89', '15', '53', '99', '97', '83', '69', '56', '27', '26', '49', '29', '42'] False\n",
      "['65', '59', '42', '38', '29', '87', '76', '25', '32', '98', '11'] False\n",
      "['34', '21', '51', '64', '47', '77', '86', '53', '16', '57', '49', '72', '65', '26', '91', '59', '99'] False\n",
      "['85', '45', '51', '47', '77', '94', '65', '15', '69', '57', '72'] False\n",
      "['16', '75', '26', '65', '49', '89', '15', '99', '69', '59', '29', '42', '94', '83', '97', '27', '62'] False\n",
      "['33', '51', '75', '21', '64', '26', '77', '72', '95', '57', '65'] False\n",
      "['36', '85', '95', '57', '75', '77', '26', '69', '72'] False\n",
      "['57', '35', '64', '47', '77', '86', '75', '53', '94', '89', '16', '15', '69', '65', '26', '59', '72', '91', '29', '42', '56', '97', '99'] False\n",
      "['97', '38', '27', '87', '98', '62', '61', '17', '73', '32', '25', '55', '36', '11', '31', '34', '24', '85', '21'] False\n",
      "['55', '33', '36', '24', '45', '85', '21', '57', '34', '51', '35', '47', '64', '86', '95', '75', '91', '53', '16', '26', '77', '65', '94'] False\n",
      "['75', '53', '26', '89', '61', '59', '76', '32', '62'] False\n",
      "['97', '27', '76', '62', '25', '73', '33', '61', '55', '79', '24', '85', '34'] False\n",
      "['89', '99', '29', '15', '38', '56', '83', '27', '76', '11', '62', '32', '59', '17', '31', '33', '55', '97', '73', '61', '42', '98', '25'] False\n",
      "['99', '59', '29', '38', '62', '83', '42', '61', '76', '27', '97', '11', '73', '32', '36', '55', '87', '79', '31', '98', '25'] False\n",
      "['42', '97', '38', '87', '83', '76', '61', '32', '17', '62', '33', '55', '36', '31', '25', '73', '45', '98', '11', '79', '24'] False\n",
      "['85', '45', '34', '95', '51', '57', '47', '64', '94', '21', '86', '26', '35', '65', '49', '89', '15', '53', '75', '69', '91'] False\n",
      "['61', '11', '76', '98', '32', '45', '57', '36', '33', '35', '51', '64', '47', '25', '31'] False\n",
      "['73', '98', '31', '36', '25', '34', '21', '85', '45', '95', '64', '51', '47', '57', '86'] False\n",
      "['15', '99', '62', '17', '25', '87', '42', '73', '79'] False\n",
      "['45', '34', '94', '26', '72', '99', '89'] False\n",
      "['15', '42', '56', '97', '83', '32', '27', '25', '11', '17', '31', '55', '29', '79', '61'] False\n",
      "['62', '61', '25', '73', '17', '33', '36', '76', '34', '45', '64', '79', '85', '95', '24'] False\n",
      "['95', '57', '47', '35', '75', '26', '94', '72', '53', '15', '56', '65', '91', '59', '42'] False\n",
      "['61', '76', '32', '11', '98', '25', '73', '17', '33', '36', '34', '57', '64', '21', '55', '51', '95', '85', '35'] False\n",
      "['65', '72', '69', '89', '15', '42', '83', '29', '27', '32', '49'] False\n",
      "4711\n"
     ]
    }
   ],
   "source": [
    "import math\n",
    "\n",
    "result = [i for i in open('data/day5.txt').read().split(\"\\n\") if i != \"\"]\n",
    "rules = [i.split('|') for i in result if '|' in i]\n",
    "numbers = [i.split(',') for i in result if '|' not in i]\n",
    "\n",
    "def is_valid(numlist):\n",
    "    for num in numlist:\n",
    "        for left, right in rules:\n",
    "            if num == left:\n",
    "                try:\n",
    "                    if numlist.index(num) < numlist.index(right):\n",
    "                        pass\n",
    "                    else:\n",
    "                        return False\n",
    "                except:\n",
    "                    pass\n",
    "    return True\n",
    "\n",
    "def reorder(numlist):\n",
    "    for num in numlist:\n",
    "        for left, right in rules:\n",
    "            if num == left:\n",
    "                try:\n",
    "                    left_idx = numlist.index(num)\n",
    "                    right_idx = numlist.index(right)\n",
    "                    if left_idx < right_idx:\n",
    "                        pass\n",
    "                    else:\n",
    "                        numlist[left_idx], numlist[right_idx] = numlist[right_idx], numlist[left_idx]\n",
    "                except:\n",
    "                    pass\n",
    "\n",
    "    return numlist\n",
    "\n",
    "sum = 0\n",
    "for numlist in numbers:\n",
    "    if not is_valid(numlist):\n",
    "        \n",
    "        blah = reorder(numlist)\n",
    "        print(blah, is_valid(blah))\n",
    "        idx = math.ceil(len(numlist)/2) -1\n",
    "        sum += int(numlist[idx])\n",
    "\n",
    "print(sum)"
   ]
  },
  {
   "cell_type": "code",
   "execution_count": null,
   "id": "d8f35ca2-3a19-4643-a238-dd1d8d654922",
   "metadata": {},
   "outputs": [],
   "source": []
  }
 ],
 "metadata": {
  "kernelspec": {
   "display_name": "Python 3 (ipykernel)",
   "language": "python",
   "name": "python3"
  },
  "language_info": {
   "codemirror_mode": {
    "name": "ipython",
    "version": 3
   },
   "file_extension": ".py",
   "mimetype": "text/x-python",
   "name": "python",
   "nbconvert_exporter": "python",
   "pygments_lexer": "ipython3",
   "version": "3.13.0"
  }
 },
 "nbformat": 4,
 "nbformat_minor": 5
}
