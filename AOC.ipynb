{
 "cells": [
  {
   "cell_type": "code",
   "execution_count": 1,
   "id": "906354cc-e75f-4d3a-adca-355312449412",
   "metadata": {},
   "outputs": [
    {
     "data": {
      "text/plain": [
       "1603498"
      ]
     },
     "execution_count": 1,
     "metadata": {},
     "output_type": "execute_result"
    }
   ],
   "source": [
    "result = [int(i.split()[0]) for i in open('data/day1.txt').read().split(\"\\n\") if i != \"\"]\n",
    "result2 = [int(i.split()[1]) for i in open('data/day1.txt').read().split(\"\\n\") if i != \"\"]\n",
    "\n",
    "sum([abs(i-j) for i, j in zip(sorted(result), sorted(result2))])"
   ]
  },
  {
   "cell_type": "code",
   "execution_count": 2,
   "id": "3fd44182-92a5-4cdd-8cc7-5e3a2d821aea",
   "metadata": {},
   "outputs": [
    {
     "data": {
      "text/plain": [
       "25574739"
      ]
     },
     "execution_count": 2,
     "metadata": {},
     "output_type": "execute_result"
    }
   ],
   "source": [
    "total = 0\n",
    "\n",
    "for i in result:\n",
    "    counter = sum([1 for j in result2 if i==j])\n",
    "    total += i * counter\n",
    "\n",
    "total"
   ]
  },
  {
   "cell_type": "code",
   "execution_count": 27,
   "id": "37c83c1a-ba51-4082-8fcd-7281fc30231c",
   "metadata": {},
   "outputs": [
    {
     "data": {
      "text/plain": [
       "591"
      ]
     },
     "execution_count": 27,
     "metadata": {},
     "output_type": "execute_result"
    }
   ],
   "source": [
    "\n",
    "result = [[int(j) for j in i.split()] for i in open('data/day2.txt').read().split(\"\\n\") if i != \"\"]\n",
    "\n",
    "safe = []\n",
    "for row in result:\n",
    "    if row == sorted(row) or row == sorted(row, reverse=True):\n",
    "        # print(row)\n",
    "        unsafe = False\n",
    "        for a, b in zip(row, row[1:]):\n",
    "            if abs(a-b) > 3 or a==b:\n",
    "                # print(a, b)\n",
    "                unsafe = True\n",
    "                continue\n",
    "        if not unsafe:\n",
    "            # print(row)\n",
    "            safe.append(row)\n",
    "    else:\n",
    "        pass\n",
    "\n",
    "len(safe)"
   ]
  },
  {
   "cell_type": "code",
   "execution_count": 39,
   "id": "ee49e9eb-e2b4-4374-9056-e8b48748c665",
   "metadata": {},
   "outputs": [
    {
     "data": {
      "text/plain": [
       "621"
      ]
     },
     "execution_count": 39,
     "metadata": {},
     "output_type": "execute_result"
    }
   ],
   "source": [
    "\n",
    "result = [[int(j) for j in i.split()] for i in open('data/day2.txt').read().split(\"\\n\") if i != \"\"]\n",
    "\n",
    "def is_safe(row):\n",
    "    if row == sorted(row) or row == sorted(row, reverse=True):\n",
    "        # print(row)\n",
    "        unsafe = False\n",
    "        for a, b in zip(row, row[1:]):\n",
    "            if abs(a-b) > 3 or a==b:\n",
    "                # print(a, b)\n",
    "                unsafe = True\n",
    "                continue\n",
    "        if not unsafe:\n",
    "            # print(row)\n",
    "            return True\n",
    "    else:\n",
    "        return False\n",
    "        \n",
    "safe = []\n",
    "for row in result:\n",
    "    if is_safe(row):\n",
    "        safe.append(row)\n",
    "    else:\n",
    "        for i in range(len(row)):\n",
    "            subrow = row[:i]+row[i+1:]\n",
    "            if is_safe(subrow):\n",
    "                safe.append(row)\n",
    "                break\n",
    "\n",
    "len(safe)"
   ]
  },
  {
   "cell_type": "code",
   "execution_count": 50,
   "id": "3be76245-9122-4972-9197-a0f16e26b9ac",
   "metadata": {},
   "outputs": [
    {
     "data": {
      "text/plain": [
       "179834255"
      ]
     },
     "execution_count": 50,
     "metadata": {},
     "output_type": "execute_result"
    }
   ],
   "source": [
    "result = [i for i in open('data/day3.txt').read().split(\"\\n\") if i != \"\"]\n",
    "\n",
    "import re\n",
    "\n",
    "sum = 0\n",
    "for i in result:\n",
    "    val = re.findall(r\"mul\\(\\d+,\\d+\\)\", i)\n",
    "    for mul in val:\n",
    "        num1, num2 = mul.replace(\"mul(\", \"\").replace(\")\", \"\").split(\",\")\n",
    "        sum += int(num1) * int(num2)\n",
    "sum"
   ]
  },
  {
   "cell_type": "code",
   "execution_count": 55,
   "id": "500ca811-1410-488d-98b0-4f1299600046",
   "metadata": {},
   "outputs": [
    {
     "name": "stdout",
     "output_type": "stream",
     "text": [
      "mul(2,4)\n",
      "don't()\n",
      "mul(5,5)\n",
      "mul(11,8)\n",
      "do()\n",
      "mul(8,5)\n"
     ]
    }
   ],
   "source": [
    "result = [i for i in open('data/test.txt').read().split(\"\\n\") if i != \"\"]\n",
    "\n",
    "import re\n",
    "\n",
    "sum = 0\n",
    "do = True\n",
    "for i in result:\n",
    "    vals = re.findall(r\"mul\\(\\d+,\\d+\\)|do\\(\\)|don't\\(\\)\", i)\n",
    "    for val in vals:\n",
    "        if 'mul' in val and do:\n",
    "            num1, num2 = val.replace(\"mul(\", \"\").replace(\")\", \"\").split(\",\")\n",
    "            sum += int(num1) * int(num2)\n",
    "        elif val == \"don't()\":\n",
    "            do = False\n",
    "        elif val == \"do()\"\n",
    "\n",
    "sum"
   ]
  },
  {
   "cell_type": "code",
   "execution_count": 62,
   "id": "c84791af-3b80-43a9-a615-00f70c3ab903",
   "metadata": {},
   "outputs": [
    {
     "data": {
      "text/plain": [
       "2642"
      ]
     },
     "execution_count": 62,
     "metadata": {},
     "output_type": "execute_result"
    }
   ],
   "source": [
    "result = [i for i in open('data/day4.txt').read().split(\"\\n\") if i != \"\"]\n",
    "result\n",
    "\n",
    "def get_val(col, row):\n",
    "    return result[col][row]\n",
    "\n",
    "def check_letter(col, row, letter):\n",
    "    if col < 0 or col >= len(result):\n",
    "        return False\n",
    "    elif row < 0 or row >= len(result[0]):\n",
    "        return False\n",
    "    else:\n",
    "        v = get_val(col, row)\n",
    "        if v == letter:\n",
    "            return True\n",
    "        else:\n",
    "            return False\n",
    "            \n",
    "def find(col, row):\n",
    "    total = 0\n",
    "    horizontal = [[col, row+1], [col, row+2], [col, row+3]]\n",
    "    bhorizontal = [[col, row-1], [col, row-2], [col, row-3]]\n",
    "    vertical = [[col+1, row], [col+2, row], [col+3, row]]\n",
    "    bvertical = [[col-1, row], [col-2, row], [col-3, row]]\n",
    "    diagonal = [[col+1, row+1], [col+2, row+2], [col+3, row+3]]\n",
    "    bdiagonal = [[col-1, row-1], [col-2, row-2], [col-3, row-3]]\n",
    "    diagonal2 = [[col-1, row+1], [col-2, row+2], [col-3, row+3]]\n",
    "    bdiagonal2 = [[col+1, row-1], [col+2, row-2], [col+3, row-3]]\n",
    "\n",
    "    groups = [horizontal, bhorizontal, vertical, bvertical, diagonal, bdiagonal, diagonal2, bdiagonal2]\n",
    "\n",
    "    for group in groups:\n",
    "        a, b = group[0]\n",
    "        if check_letter(a, b, 'M'):\n",
    "            c, d = group[1]\n",
    "            if check_letter(c, d, 'A'):\n",
    "                e, f = group[2]\n",
    "                if check_letter(e, f, 'S'):\n",
    "                    total +=1\n",
    "    return total\n",
    "        \n",
    "sum = 0\n",
    "for col, data in enumerate(result):\n",
    "    for row, val in enumerate(data):\n",
    "        if val == 'X':\n",
    "            # print(\"find\", col, row)\n",
    "            res = find(col, row)\n",
    "            # print(res, col, row)\n",
    "            sum += res\n",
    "sum"
   ]
  },
  {
   "cell_type": "code",
   "execution_count": 72,
   "id": "31d6ea43-f8d0-49ba-a525-bcb9afb81a44",
   "metadata": {},
   "outputs": [
    {
     "name": "stdout",
     "output_type": "stream",
     "text": [
      "[None, None, 'S', 'S']\n",
      "False 0 7\n",
      "['M', 'S', 'S', 'S']\n",
      "False 1 2\n",
      "['S', None, None, None]\n",
      "False 1 9\n",
      "[None, 'S', 'S', 'S']\n",
      "False 2 0\n",
      "['M', 'M', 'S', 'S']\n",
      "True 2 6\n",
      "['S', 'S', 'M', 'M']\n",
      "True 2 7\n",
      "['M', 'S', 'S', 'S']\n",
      "False 3 2\n",
      "['S', 'M', 'M', 'M']\n",
      "False 3 4\n",
      "['S', 'M', 'M', 'M']\n",
      "False 4 2\n",
      "['M', 'S', 'X', 'X']\n",
      "False 4 4\n",
      "['M', 'M', 'M', 'M']\n",
      "False 4 7\n",
      "['M', 'S', 'M', 'M']\n",
      "False 5 2\n",
      "['X', 'M', 'S', 'S']\n",
      "False 5 7\n",
      "['M', None, None, None]\n",
      "False 5 9\n",
      "['M', 'X', 'S', 'S']\n",
      "False 6 5\n",
      "['S', 'S', 'M', 'M']\n",
      "True 7 1\n",
      "['S', 'S', 'M', 'M']\n",
      "True 7 3\n",
      "['S', 'S', 'M', 'M']\n",
      "True 7 5\n",
      "['S', 'S', 'M', 'M']\n",
      "True 7 7\n",
      "['X', 'S', 'M', 'M']\n",
      "False 7 8\n",
      "['S', None, None, None]\n",
      "False 7 9\n",
      "['S', 'X', 'M', 'M']\n",
      "False 8 1\n",
      "['M', 'X', None, None]\n",
      "False 9 4\n",
      "['M', 'M', None, None]\n",
      "False 9 7\n"
     ]
    },
    {
     "data": {
      "text/plain": [
       "0"
      ]
     },
     "execution_count": 72,
     "metadata": {},
     "output_type": "execute_result"
    }
   ],
   "source": [
    "result = [i for i in open('data/test.txt').read().split(\"\\n\") if i != \"\"]\n",
    "result\n",
    "\n",
    "def get_val(col, row):\n",
    "    return result[col][row]\n",
    "\n",
    "def check_letter(col, row):\n",
    "    if col < 0 or col >= len(result):\n",
    "        return None\n",
    "    elif row < 0 or row >= len(result[0]):\n",
    "        return None\n",
    "    else:\n",
    "        v = get_val(col, row)\n",
    "        return v\n",
    "            \n",
    "def find(col, row):\n",
    "    total = 0\n",
    "    x = [[col-1, row-1], [col-1, row+1], [col+1, row+1], [col+1, row+1]]\n",
    "\n",
    "    result = [check_letter(i,j) for i, j in x]\n",
    "    print(result)\n",
    "    if result in [['M', 'S', 'M', 'S'], ['S', 'M', 'S', 'M'], ['S', 'S', 'M', 'M'], ['M', 'M', 'S', 'S']]:\n",
    "        return True\n",
    "    else:\n",
    "        return False\n",
    "    \n",
    "sum = 0\n",
    "for col, data in enumerate(result):\n",
    "    for row, val in enumerate(data):\n",
    "        if val == 'A':\n",
    "            res = find(col, row)\n",
    "            if res:\n",
    "            sum += res\n",
    "sum"
   ]
  },
  {
   "cell_type": "code",
   "execution_count": null,
   "id": "dfd5ea70-1100-4668-839a-1ba759677a4c",
   "metadata": {},
   "outputs": [],
   "source": [
    "....XXMAS.\n",
    ".SAMXMS...\n",
    "...S..A...\n",
    "..A.A.MS.X\n",
    "XMASAMX.MM\n",
    "X.....XA.A\n",
    "S.S.S.S.SS\n",
    ".A.A.A.A.A\n",
    "..M.M.M.MM\n",
    ".X.X.XMASX"
   ]
  }
 ],
 "metadata": {
  "kernelspec": {
   "display_name": "Python 3 (ipykernel)",
   "language": "python",
   "name": "python3"
  },
  "language_info": {
   "codemirror_mode": {
    "name": "ipython",
    "version": 3
   },
   "file_extension": ".py",
   "mimetype": "text/x-python",
   "name": "python",
   "nbconvert_exporter": "python",
   "pygments_lexer": "ipython3",
   "version": "3.13.0"
  }
 },
 "nbformat": 4,
 "nbformat_minor": 5
}
