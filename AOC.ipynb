{
 "cells": [
  {
   "cell_type": "markdown",
   "id": "1a006100-df73-403e-94c0-a1a349f0d233",
   "metadata": {},
   "source": [
    "# Day 1"
   ]
  },
  {
   "cell_type": "code",
   "execution_count": 1,
   "id": "906354cc-e75f-4d3a-adca-355312449412",
   "metadata": {},
   "outputs": [
    {
     "data": {
      "text/plain": [
       "1603498"
      ]
     },
     "execution_count": 1,
     "metadata": {},
     "output_type": "execute_result"
    }
   ],
   "source": [
    "result = [int(i.split()[0]) for i in open('data/day1.txt').read().split(\"\\n\") if i != \"\"]\n",
    "result2 = [int(i.split()[1]) for i in open('data/day1.txt').read().split(\"\\n\") if i != \"\"]\n",
    "\n",
    "sum([abs(i-j) for i, j in zip(sorted(result), sorted(result2))])"
   ]
  },
  {
   "cell_type": "code",
   "execution_count": 2,
   "id": "3fd44182-92a5-4cdd-8cc7-5e3a2d821aea",
   "metadata": {},
   "outputs": [
    {
     "data": {
      "text/plain": [
       "25574739"
      ]
     },
     "execution_count": 2,
     "metadata": {},
     "output_type": "execute_result"
    }
   ],
   "source": [
    "total = 0\n",
    "\n",
    "for i in result:\n",
    "    counter = sum([1 for j in result2 if i==j])\n",
    "    total += i * counter\n",
    "\n",
    "total"
   ]
  },
  {
   "cell_type": "markdown",
   "id": "914e7235-e360-4a25-904a-7cbc7ffbf330",
   "metadata": {},
   "source": [
    "# Day 2"
   ]
  },
  {
   "cell_type": "code",
   "execution_count": 27,
   "id": "37c83c1a-ba51-4082-8fcd-7281fc30231c",
   "metadata": {},
   "outputs": [
    {
     "data": {
      "text/plain": [
       "591"
      ]
     },
     "execution_count": 27,
     "metadata": {},
     "output_type": "execute_result"
    }
   ],
   "source": [
    "\n",
    "result = [[int(j) for j in i.split()] for i in open('data/day2.txt').read().split(\"\\n\") if i != \"\"]\n",
    "\n",
    "safe = []\n",
    "for row in result:\n",
    "    if row == sorted(row) or row == sorted(row, reverse=True):\n",
    "        # print(row)\n",
    "        unsafe = False\n",
    "        for a, b in zip(row, row[1:]):\n",
    "            if abs(a-b) > 3 or a==b:\n",
    "                # print(a, b)\n",
    "                unsafe = True\n",
    "                continue\n",
    "        if not unsafe:\n",
    "            # print(row)\n",
    "            safe.append(row)\n",
    "    else:\n",
    "        pass\n",
    "\n",
    "len(safe)"
   ]
  },
  {
   "cell_type": "code",
   "execution_count": 39,
   "id": "ee49e9eb-e2b4-4374-9056-e8b48748c665",
   "metadata": {},
   "outputs": [
    {
     "data": {
      "text/plain": [
       "621"
      ]
     },
     "execution_count": 39,
     "metadata": {},
     "output_type": "execute_result"
    }
   ],
   "source": [
    "\n",
    "result = [[int(j) for j in i.split()] for i in open('data/day2.txt').read().split(\"\\n\") if i != \"\"]\n",
    "\n",
    "def is_safe(row):\n",
    "    if row == sorted(row) or row == sorted(row, reverse=True):\n",
    "        # print(row)\n",
    "        unsafe = False\n",
    "        for a, b in zip(row, row[1:]):\n",
    "            if abs(a-b) > 3 or a==b:\n",
    "                # print(a, b)\n",
    "                unsafe = True\n",
    "                continue\n",
    "        if not unsafe:\n",
    "            # print(row)\n",
    "            return True\n",
    "    else:\n",
    "        return False\n",
    "        \n",
    "safe = []\n",
    "for row in result:\n",
    "    if is_safe(row):\n",
    "        safe.append(row)\n",
    "    else:\n",
    "        for i in range(len(row)):\n",
    "            subrow = row[:i]+row[i+1:]\n",
    "            if is_safe(subrow):\n",
    "                safe.append(row)\n",
    "                break\n",
    "\n",
    "len(safe)"
   ]
  },
  {
   "cell_type": "markdown",
   "id": "bac09a41-921f-4ec4-be08-d8b7eed4b56d",
   "metadata": {},
   "source": [
    "# Day 3"
   ]
  },
  {
   "cell_type": "code",
   "execution_count": 50,
   "id": "3be76245-9122-4972-9197-a0f16e26b9ac",
   "metadata": {},
   "outputs": [
    {
     "data": {
      "text/plain": [
       "179834255"
      ]
     },
     "execution_count": 50,
     "metadata": {},
     "output_type": "execute_result"
    }
   ],
   "source": [
    "result = [i for i in open('data/day3.txt').read().split(\"\\n\") if i != \"\"]\n",
    "\n",
    "import re\n",
    "\n",
    "sum = 0\n",
    "for i in result:\n",
    "    val = re.findall(r\"mul\\(\\d+,\\d+\\)\", i)\n",
    "    for mul in val:\n",
    "        num1, num2 = mul.replace(\"mul(\", \"\").replace(\")\", \"\").split(\",\")\n",
    "        sum += int(num1) * int(num2)\n",
    "sum"
   ]
  },
  {
   "cell_type": "code",
   "execution_count": 2,
   "id": "500ca811-1410-488d-98b0-4f1299600046",
   "metadata": {},
   "outputs": [
    {
     "data": {
      "text/plain": [
       "0"
      ]
     },
     "execution_count": 2,
     "metadata": {},
     "output_type": "execute_result"
    }
   ],
   "source": [
    "result = [i for i in open('data/test.txt').read().split(\"\\n\") if i != \"\"]\n",
    "\n",
    "import re\n",
    "\n",
    "sum = 0\n",
    "do = True\n",
    "for i in result:\n",
    "    vals = re.findall(r\"mul\\(\\d+,\\d+\\)|do\\(\\)|don't\\(\\)\", i)\n",
    "    for val in vals:\n",
    "        if 'mul' in val and do:\n",
    "            num1, num2 = val.replace(\"mul(\", \"\").replace(\")\", \"\").split(\",\")\n",
    "            sum += int(num1) * int(num2)\n",
    "        elif val == \"don't()\":\n",
    "            do = False\n",
    "        elif val == \"do()\":\n",
    "            do = True\n",
    "sum"
   ]
  },
  {
   "cell_type": "markdown",
   "id": "879b6dd6-552e-431b-a11e-60cf637d9973",
   "metadata": {},
   "source": [
    "# Day 4"
   ]
  },
  {
   "cell_type": "code",
   "execution_count": 62,
   "id": "c84791af-3b80-43a9-a615-00f70c3ab903",
   "metadata": {},
   "outputs": [
    {
     "data": {
      "text/plain": [
       "2642"
      ]
     },
     "execution_count": 62,
     "metadata": {},
     "output_type": "execute_result"
    }
   ],
   "source": [
    "result = [i for i in open('data/day4.txt').read().split(\"\\n\") if i != \"\"]\n",
    "result\n",
    "\n",
    "def get_val(col, row):\n",
    "    return result[col][row]\n",
    "\n",
    "def check_letter(col, row, letter):\n",
    "    if col < 0 or col >= len(result):\n",
    "        return False\n",
    "    elif row < 0 or row >= len(result[0]):\n",
    "        return False\n",
    "    else:\n",
    "        v = get_val(col, row)\n",
    "        if v == letter:\n",
    "            return True\n",
    "        else:\n",
    "            return False\n",
    "            \n",
    "def find(col, row):\n",
    "    total = 0\n",
    "    horizontal = [[col, row+1], [col, row+2], [col, row+3]]\n",
    "    bhorizontal = [[col, row-1], [col, row-2], [col, row-3]]\n",
    "    vertical = [[col+1, row], [col+2, row], [col+3, row]]\n",
    "    bvertical = [[col-1, row], [col-2, row], [col-3, row]]\n",
    "    diagonal = [[col+1, row+1], [col+2, row+2], [col+3, row+3]]\n",
    "    bdiagonal = [[col-1, row-1], [col-2, row-2], [col-3, row-3]]\n",
    "    diagonal2 = [[col-1, row+1], [col-2, row+2], [col-3, row+3]]\n",
    "    bdiagonal2 = [[col+1, row-1], [col+2, row-2], [col+3, row-3]]\n",
    "\n",
    "    groups = [horizontal, bhorizontal, vertical, bvertical, diagonal, bdiagonal, diagonal2, bdiagonal2]\n",
    "\n",
    "    for group in groups:\n",
    "        a, b = group[0]\n",
    "        if check_letter(a, b, 'M'):\n",
    "            c, d = group[1]\n",
    "            if check_letter(c, d, 'A'):\n",
    "                e, f = group[2]\n",
    "                if check_letter(e, f, 'S'):\n",
    "                    total +=1\n",
    "    return total\n",
    "        \n",
    "sum = 0\n",
    "for col, data in enumerate(result):\n",
    "    for row, val in enumerate(data):\n",
    "        if val == 'X':\n",
    "            # print(\"find\", col, row)\n",
    "            res = find(col, row)\n",
    "            # print(res, col, row)\n",
    "            sum += res\n",
    "sum"
   ]
  },
  {
   "cell_type": "code",
   "execution_count": 7,
   "id": "31d6ea43-f8d0-49ba-a525-bcb9afb81a44",
   "metadata": {},
   "outputs": [
    {
     "data": {
      "text/plain": [
       "1327"
      ]
     },
     "execution_count": 7,
     "metadata": {},
     "output_type": "execute_result"
    }
   ],
   "source": [
    "result = [i for i in open('data/day4.txt').read().split(\"\\n\") if i != \"\"]\n",
    "result\n",
    "\n",
    "def get_val(col, row):\n",
    "    return result[col][row]\n",
    "\n",
    "def check_letter(col, row):\n",
    "    if col < 0 or col >= len(result):\n",
    "        return None\n",
    "    elif row < 0 or row >= len(result[0]):\n",
    "        return None\n",
    "    else:\n",
    "        v = get_val(col, row)\n",
    "        return v\n",
    "            \n",
    "def find(col, row):\n",
    "    total = 0\n",
    "    x = [[col-1, row-1], [col-1, row+1], [col+1, row+1], [col+1, row+1]]\n",
    "\n",
    "    result = [check_letter(i,j) for i, j in x]\n",
    "    # print(result)\n",
    "    if result in [['M', 'S', 'M', 'S'], ['S', 'M', 'S', 'M'], ['S', 'S', 'M', 'M'], ['M', 'M', 'S', 'S']]:\n",
    "        return True\n",
    "    else:\n",
    "        return False\n",
    "    \n",
    "sum = 0\n",
    "for col, data in enumerate(result):\n",
    "    for row, val in enumerate(data):\n",
    "        if val == 'A':\n",
    "            res = find(col, row)\n",
    "            if res:\n",
    "                sum += 1\n",
    "sum"
   ]
  },
  {
   "cell_type": "markdown",
   "id": "dba8ebd1-98d4-4fbf-ad76-f38ddcb3e164",
   "metadata": {},
   "source": [
    "# Day 5"
   ]
  },
  {
   "cell_type": "code",
   "execution_count": 30,
   "id": "dfd5ea70-1100-4668-839a-1ba759677a4c",
   "metadata": {},
   "outputs": [
    {
     "data": {
      "text/plain": [
       "4872"
      ]
     },
     "execution_count": 30,
     "metadata": {},
     "output_type": "execute_result"
    }
   ],
   "source": [
    "import math\n",
    "\n",
    "result = [i for i in open('data/day5.txt').read().split(\"\\n\") if i != \"\"]\n",
    "rules = [i.split('|') for i in result if '|' in i]\n",
    "numbers = [i.split(',') for i in result if '|' not in i]\n",
    "\n",
    "def is_valid(numlist):\n",
    "    for num in numlist:\n",
    "        for left, right in rules:\n",
    "            if num == left:\n",
    "                try:\n",
    "                    if numlist.index(num) < numlist.index(right):\n",
    "                        pass\n",
    "                    else:\n",
    "                        return False\n",
    "                except:\n",
    "                    pass\n",
    "    return True\n",
    "\n",
    "sum = 0\n",
    "for numlist in numbers:\n",
    "    if is_valid(numlist):\n",
    "        idx = math.ceil(len(numlist)/2) -1\n",
    "        # print(idx,numlist[idx])\n",
    "        sum += int(numlist[idx])\n",
    "    # print(numlist, is_valid(numlist))\n",
    "\n",
    "sum"
   ]
  },
  {
   "cell_type": "code",
   "execution_count": 46,
   "id": "f2fb687a-8c69-4466-9abc-b2e32aa5ad72",
   "metadata": {},
   "outputs": [
    {
     "data": {
      "text/plain": [
       "5564"
      ]
     },
     "execution_count": 46,
     "metadata": {},
     "output_type": "execute_result"
    }
   ],
   "source": [
    "import math\n",
    "\n",
    "result = [i for i in open('data/day5.txt').read().split(\"\\n\") if i != \"\"]\n",
    "rules = [i.split('|') for i in result if '|' in i]\n",
    "numbers = [i.split(',') for i in result if '|' not in i]\n",
    "\n",
    "def is_valid(numlist):\n",
    "    for num in numlist:\n",
    "        for left, right in rules:\n",
    "            if num == left:\n",
    "                try:\n",
    "                    if numlist.index(num) < numlist.index(right):\n",
    "                        pass\n",
    "                    else:\n",
    "                        return False\n",
    "                except:\n",
    "                    pass\n",
    "    return True\n",
    "\n",
    "def reorder(numlist):\n",
    "    for num in numlist:\n",
    "        for left, right in rules:\n",
    "            if num == left:\n",
    "                try:\n",
    "                    left_idx = numlist.index(num)\n",
    "                    right_idx = numlist.index(right)\n",
    "                    if left_idx < right_idx:\n",
    "                        pass\n",
    "                    else:\n",
    "                        numlist[left_idx], numlist[right_idx] = numlist[right_idx], numlist[left_idx]\n",
    "                except:\n",
    "                    pass\n",
    "\n",
    "    return numlist\n",
    "\n",
    "sum = 0\n",
    "for numlist in numbers:\n",
    "    if not is_valid(numlist):\n",
    "        while not is_valid(numlist):\n",
    "            numlist = reorder(numlist)\n",
    "        # print(numlist, is_valid(numlist))\n",
    "        idx = math.ceil(len(numlist)/2) -1\n",
    "        sum += int(numlist[idx])\n",
    "\n",
    "sum"
   ]
  },
  {
   "cell_type": "markdown",
   "id": "fecfcfc9-7bd7-4b89-93dd-a12d9ff739dc",
   "metadata": {},
   "source": [
    "# Day 6"
   ]
  },
  {
   "cell_type": "code",
   "execution_count": 78,
   "id": "d8f35ca2-3a19-4643-a238-dd1d8d654922",
   "metadata": {},
   "outputs": [
    {
     "data": {
      "text/plain": [
       "5269"
      ]
     },
     "execution_count": 78,
     "metadata": {},
     "output_type": "execute_result"
    }
   ],
   "source": [
    "result = [i for i in open('data/day6.txt').read().split(\"\\n\") if i != \"\"]\n",
    "moves = set()\n",
    "\n",
    "def move(col, row, direction):\n",
    "    moves.add((col,row))\n",
    "    if direction == 'n':\n",
    "        ncol, nrow = col-1, row\n",
    "    elif direction == 's':\n",
    "        ncol, nrow = col+1, row\n",
    "    elif direction == 'e':\n",
    "        ncol, nrow = col, row+1\n",
    "    elif direction == 'w':\n",
    "        ncol, nrow = col, row-1\n",
    "\n",
    "    if ncol < 0 or ncol >= len(result) or nrow < 0 or nrow >= len(result[0]):\n",
    "        return None, None, None\n",
    "\n",
    "    new_spot_val = result[ncol][nrow]\n",
    "\n",
    "    if new_spot_val != '#':\n",
    "        return ncol, nrow, direction\n",
    "    else:\n",
    "        if direction == 'n':\n",
    "            ndirection = 'e'\n",
    "        elif direction == 'e':\n",
    "            ndirection = 's'\n",
    "        elif direction == 's':\n",
    "            ndirection = 'w'\n",
    "        elif direction == 'w':\n",
    "            ndirection = 'n'\n",
    "        return col, row, ndirection\n",
    "        \n",
    "def current_location(): \n",
    "    for col, item in enumerate(result):\n",
    "        for row, val in enumerate(item):\n",
    "            if val == '^':\n",
    "                return col, row, 'n'\n",
    "            elif val == '>':\n",
    "                return col, row, 'e'\n",
    "            elif val == 'v':\n",
    "                return col, row, 's'\n",
    "            elif val == '<':\n",
    "                return col, row, 'w'\n",
    "\n",
    "row, col, loc = current_location()\n",
    "val = 1\n",
    "while True:\n",
    "    # print(row, col, loc)\n",
    "    row, col, loc = move(row, col, loc)\n",
    "    if row is None:\n",
    "        break\n",
    "\n",
    "len(moves)"
   ]
  },
  {
   "cell_type": "code",
   "execution_count": 119,
   "id": "e91d5028-cdad-430a-8867-1548f5d12282",
   "metadata": {},
   "outputs": [
    {
     "data": {
      "text/plain": [
       "1957"
      ]
     },
     "execution_count": 119,
     "metadata": {},
     "output_type": "execute_result"
    }
   ],
   "source": [
    "orig_result = [i for i in open('data/day6.txt').read().split(\"\\n\") if i != \"\"]\n",
    "result = result.copy()\n",
    "\n",
    "def move(col, row, direction):    \n",
    "    if direction == 'n':\n",
    "        ncol, nrow = col-1, row\n",
    "    elif direction == 's':\n",
    "        ncol, nrow = col+1, row\n",
    "    elif direction == 'e':\n",
    "        ncol, nrow = col, row+1\n",
    "    elif direction == 'w':\n",
    "        ncol, nrow = col, row-1\n",
    "\n",
    "    if ncol < 0 or ncol >= len(result) or nrow < 0 or nrow >= len(result[0]):\n",
    "        return None, None, None\n",
    "\n",
    "    new_spot_val = result[ncol][nrow]\n",
    "    # if ncol == 6 and nrow == 3:\n",
    "    #     print(result)\n",
    "\n",
    "    if new_spot_val != '#':\n",
    "        return ncol, nrow, direction\n",
    "    else:\n",
    "        if direction == 'n':\n",
    "            ndirection = 'e'\n",
    "        elif direction == 'e':\n",
    "            ndirection = 's'\n",
    "        elif direction == 's':\n",
    "            ndirection = 'w'\n",
    "        elif direction == 'w':\n",
    "            ndirection = 'n'\n",
    "        return col, row, ndirection\n",
    "        \n",
    "def current_location(): \n",
    "    for col, item in enumerate(result):\n",
    "        for row, val in enumerate(item):\n",
    "            if val == '^':\n",
    "                return col, row, 'n'\n",
    "            elif val == '>':\n",
    "                return col, row, 'e'\n",
    "            elif val == 'v':\n",
    "                return col, row, 's'\n",
    "            elif val == '<':\n",
    "                return col, row, 'w'\n",
    "\n",
    "def check_count():\n",
    "    global result\n",
    "\n",
    "    infinite = 0\n",
    "    for c, item in enumerate(result):\n",
    "        for r, val in enumerate(item):\n",
    "            count = 0 \n",
    "            result = orig_result.copy()\n",
    "            col, row, loc = current_location()\n",
    "            # print(c, r)\n",
    "            if ((c != col) or (r != row)):\n",
    "                result[c] = result[c][:r] + '#' + result[c][r+1:]\n",
    "                # print(c, r, result)\n",
    "\n",
    "                while True:\n",
    "                    count += 1\n",
    "                    # print(col, row, loc)\n",
    "                    col, row, loc = move(col, row, loc)\n",
    "                    if row is None:\n",
    "                        break\n",
    "                    elif count > 1000000:\n",
    "                        #print(c, r, \"infinite\")\n",
    "                        infinite +=1 \n",
    "                        break\n",
    "    return infinite\n",
    "    \n",
    "check_count()"
   ]
  },
  {
   "cell_type": "markdown",
   "id": "f5e6560d-eb6b-4948-a2c6-09051ed6c858",
   "metadata": {},
   "source": [
    "# Day 7"
   ]
  },
  {
   "cell_type": "code",
   "execution_count": 152,
   "id": "58f3d3be-942e-4609-ae3c-e0cf0a42e051",
   "metadata": {},
   "outputs": [
    {
     "data": {
      "text/plain": [
       "5837374519342"
      ]
     },
     "execution_count": 152,
     "metadata": {},
     "output_type": "execute_result"
    }
   ],
   "source": [
    "from itertools import product\n",
    "\n",
    "result = [i.split(\":\") for i in open('data/day7.txt').read().split(\"\\n\") if i != \"\"]\n",
    "\n",
    "matchcount = 0\n",
    "for final, values in result:\n",
    "    final = int(final)\n",
    "    values = [i.strip() for i in values.split()]\n",
    "    combos = list(product([\"+\", \"*\"], repeat=len(values)-1))\n",
    "    for combo in combos:\n",
    "        start = values[0]\n",
    "        for i, j  in zip(combo, values[1:]):\n",
    "            start = eval(str(start) + i + j)\n",
    "        if start == final:\n",
    "            matchcount += final\n",
    "            break\n",
    "\n",
    "matchcount"
   ]
  },
  {
   "cell_type": "code",
   "execution_count": 1,
   "id": "0eebb520-8437-4dce-8e81-dba069b0db69",
   "metadata": {},
   "outputs": [
    {
     "data": {
      "text/plain": [
       "492383931650959"
      ]
     },
     "execution_count": 1,
     "metadata": {},
     "output_type": "execute_result"
    }
   ],
   "source": [
    "from itertools import product\n",
    "\n",
    "result = [i.split(\":\") for i in open('data/day7.txt').read().split(\"\\n\") if i != \"\"]\n",
    "\n",
    "matchcount = 0\n",
    "for final, values in result:\n",
    "    final = int(final)\n",
    "    values = [i.strip() for i in values.split()]\n",
    "    combos = list(product([\"+\", \"*\", \"||\"], repeat=len(values)-1))\n",
    "    for combo in combos:\n",
    "        start = values[0]\n",
    "        for i, j  in zip(combo, values[1:]):\n",
    "            if i == \"||\":\n",
    "                start = str(start) + str(j)\n",
    "            else:\n",
    "                start = eval(str(start) + i + j)\n",
    "        if str(start) == str(final):\n",
    "            # print(\"match\", start)\n",
    "            matchcount += final\n",
    "            break\n",
    "\n",
    "matchcount"
   ]
  },
  {
   "cell_type": "markdown",
   "id": "5ea01630-b932-430d-b6bb-82d7aa15160c",
   "metadata": {},
   "source": [
    "# Day 8"
   ]
  },
  {
   "cell_type": "code",
   "execution_count": 3,
   "id": "db5b4bef-7735-4a33-a5d8-569fedeedeba",
   "metadata": {},
   "outputs": [
    {
     "data": {
      "text/plain": [
       "351"
      ]
     },
     "execution_count": 3,
     "metadata": {},
     "output_type": "execute_result"
    }
   ],
   "source": [
    "from itertools import combinations\n",
    "\n",
    "result = [i for i in open('data/day8.txt').read().split(\"\\n\") if i != \"\"]\n",
    "\n",
    "def find(letter: str):\n",
    "    coordinates = set()\n",
    "    for col, item in enumerate(result):\n",
    "        for row, val in enumerate(item):\n",
    "            if result[col][row] == letter:\n",
    "                coordinates.add((col, row))\n",
    "\n",
    "    return coordinates\n",
    "\n",
    "def antinodes(a, b):\n",
    "    if (a[0] > b[0]) or (a[0] == b[0] and a[1] > a[b]):\n",
    "        a, b = b, a\n",
    "    da, db = a[0] - b[0], a[1] - b[1]\n",
    "    dc, dd = -da, -db\n",
    "    c = da + a[0], db + a[1]\n",
    "    d = dc + b[0],  dd + b[1]\n",
    "    if c[0] < 0 or c[0] >= len(result) or c[1] < 0 or c[1] >= len(result[0]):\n",
    "        c = None\n",
    "    if d[0] < 0 or d[0] >= len(result) or d[1] < 0 or d[1] >= len(result[0]):\n",
    "        d = None\n",
    "    return c, d    \n",
    "\n",
    "def get_distinct():\n",
    "    values = set()\n",
    "    for col, item in enumerate(result):\n",
    "        for row, val in enumerate(item):\n",
    "            if result[col][row] != '.':\n",
    "                values.add(result[col][row])\n",
    "    return values\n",
    "\n",
    "distinct_nodes = get_distinct()\n",
    "\n",
    "distinct_antinodes = set()\n",
    "for node in distinct_nodes:\n",
    "    coords = find(node)\n",
    "    for a, b in combinations(coords, 2):\n",
    "        c, d = antinodes(a, b)\n",
    "        if c is not None:\n",
    "            distinct_antinodes.add(c)\n",
    "        if d is not None:\n",
    "            distinct_antinodes.add(d)\n",
    "\n",
    "len(distinct_antinodes)"
   ]
  },
  {
   "cell_type": "code",
   "execution_count": 47,
   "id": "20e1a1c3-f088-4ad1-9625-a6bcf65c84ec",
   "metadata": {},
   "outputs": [
    {
     "data": {
      "text/plain": [
       "1259"
      ]
     },
     "execution_count": 47,
     "metadata": {},
     "output_type": "execute_result"
    }
   ],
   "source": [
    "from itertools import combinations\n",
    "\n",
    "result = [i for i in open('data/day8.txt').read().split(\"\\n\") if i != \"\"]\n",
    "\n",
    "def find(letter: str):\n",
    "    coordinates = set()\n",
    "    for col, item in enumerate(result):\n",
    "        for row, val in enumerate(item):\n",
    "            if result[col][row] == letter:\n",
    "                coordinates.add((col, row))\n",
    "    return coordinates\n",
    "\n",
    "def antinodes(a, b):\n",
    "    vals = []\n",
    "    if (a[0] > b[0]) or (a[0] == b[0] and a[1] > b[1]):\n",
    "        a, b = b, a\n",
    "    da, db = a[0] - b[0], a[1] - b[1]\n",
    "    dc, dd = -da, -db\n",
    "\n",
    "    # print(da, db, dc, dd, a, b)\n",
    "    c = da + a[0], db + a[1]\n",
    "    d = dc + b[0], dd + b[1]\n",
    "    # print(c, d)\n",
    "    \n",
    "\n",
    "    while True:\n",
    "        # print(\"calc c\", c)\n",
    "        if c[0] < 0 or c[0] >= len(result) or c[1] < 0 or c[1] >= len(result[0]):\n",
    "            break\n",
    "        else:\n",
    "            vals.append(c)\n",
    "            c = c[0] + da,  c[1] + db\n",
    "\n",
    "    while True:\n",
    "        # print(d)\n",
    "        if d[0] < 0 or d[0] >= len(result) or d[1] < 0 or d[1] >= len(result[0]):\n",
    "            break\n",
    "        else:\n",
    "            vals.append(d)\n",
    "            d = d[0] + dc, d[1] + dd\n",
    "            \n",
    "    return vals\n",
    "\n",
    "def get_distinct():\n",
    "    values = set()\n",
    "    for col, item in enumerate(result):\n",
    "        for row, val in enumerate(item):\n",
    "            if result[col][row] != '.':\n",
    "                values.add(result[col][row])\n",
    "    return values\n",
    "\n",
    "distinct_nodes = get_distinct()\n",
    "distinct_antinodes = set()\n",
    "coords = set()\n",
    "for node in distinct_nodes:\n",
    "    coords = find(node)\n",
    "    for a, b in combinations(coords, 2):\n",
    "        distinct_antinodes.add(a)\n",
    "        distinct_antinodes.add(b)\n",
    "        vals = antinodes(a, b)\n",
    "        for val in vals:\n",
    "            distinct_antinodes.add(val)\n",
    "\n",
    "\n",
    "len(distinct_antinodes)\n"
   ]
  },
  {
   "cell_type": "markdown",
   "id": "c7aa0e2e-cdc5-4248-a790-17c42881d990",
   "metadata": {},
   "source": [
    "# Day 9"
   ]
  },
  {
   "cell_type": "code",
   "execution_count": 17,
   "id": "897898ac-9482-4a03-9398-55c69984dbb5",
   "metadata": {},
   "outputs": [
    {
     "data": {
      "text/plain": [
       "6310675819476"
      ]
     },
     "execution_count": 17,
     "metadata": {},
     "output_type": "execute_result"
    }
   ],
   "source": [
    "result = open('data/day9.txt').read().replace('\\n', '')\n",
    "\n",
    "val = []\n",
    "for idx, i in enumerate(result):\n",
    "    if idx % 2 == 0:\n",
    "        for j in range(int(i)):\n",
    "            val.append(idx//2)\n",
    "    else:\n",
    "        for j in range(int(i)):\n",
    "            val.append('.')\n",
    "\n",
    "empty_pointer = val.index('.')\n",
    "\n",
    "counter = 0\n",
    "rangelen = list(reversed(range(len(val))))\n",
    "\n",
    "for i in rangelen:\n",
    "    if empty_pointer >= len(val):\n",
    "        break\n",
    "    counter += 1\n",
    "    item = val[i]\n",
    "    if item != '.':\n",
    "        val[empty_pointer] = item\n",
    "        val = val[:-1]\n",
    "        while val[empty_pointer] != '.':\n",
    "            empty_pointer +=1\n",
    "            if empty_pointer >= len(val):\n",
    "                break\n",
    "    else:\n",
    "        val = val[:-1]\n",
    "\n",
    "checksum = 0\n",
    "for idx, i in enumerate(val):\n",
    "    checksum += i*idx\n",
    "\n",
    "checksum"
   ]
  },
  {
   "cell_type": "code",
   "execution_count": 58,
   "id": "49812896-a536-46b9-9e38-036f51a60190",
   "metadata": {},
   "outputs": [
    {
     "data": {
      "text/plain": [
       "6335972980679"
      ]
     },
     "execution_count": 58,
     "metadata": {},
     "output_type": "execute_result"
    }
   ],
   "source": [
    "result = open('data/day9.txt').read().replace('\\n', '')\n",
    "\n",
    "val = []\n",
    "for idx, i in enumerate(result):\n",
    "    if idx % 2 == 0:\n",
    "        val.append((idx//2, int(i)))\n",
    "    else:\n",
    "        val.append(('.', int(i)))\n",
    "\n",
    "right_p = len(val)-1\n",
    " \n",
    "while True:\n",
    "    if right_p == -1:\n",
    "        break\n",
    "    block = val[right_p]\n",
    "    # print(\"new\", val, block)\n",
    "    if block[0] == '.':\n",
    "        right_p -= 1\n",
    "    else:\n",
    "        check = False\n",
    "        for idx, (item, count) in enumerate(val):\n",
    "            if idx >= right_p:\n",
    "                break\n",
    "            if item == '.' and count>=block[1]:\n",
    "                if count == block[1]:\n",
    "                    val[idx] = block\n",
    "                    val[right_p] = ('.', block[1])\n",
    "                    # merge left and right\n",
    "                    if right_p > 0 and val[right_p-1][0] == '.':\n",
    "                        val[right_p] = ('.', val[right_p-1][1]+val[right_p][1])\n",
    "                        val[right_p-1] = ('.', 0)\n",
    "                    if right_p < len(val)-1 and val[right_p+1][0] == '.':\n",
    "                        val[right_p] = ('.', val[right_p+1][1]+val[right_p][1])\n",
    "                        val[right_p+1] = ('.', 0)\n",
    "                    check = True\n",
    "                    break\n",
    "                else:\n",
    "                    val[idx] = (item, count-block[1])\n",
    "                    val = val[:idx] + [block] + val[idx:]\n",
    "                    new_right_p = right_p+1\n",
    "                    val[new_right_p] = ('.', block[1])\n",
    "                    if new_right_p > 0 and val[new_right_p-1][0] == '.':\n",
    "                        val[new_right_p] = ('.', val[new_right_p-1][1]+val[new_right_p][1])\n",
    "                        val[new_right_p-1] = ('.', 0)\n",
    "                    if new_right_p < len(val)-1 and val[new_right_p+1][0] == '.':\n",
    "                        val[new_right_p] = ('.', val[new_right_p+1][1]+val[new_right_p][1])\n",
    "                        val[new_right_p+1] = ('.', 0)\n",
    "                    check = True\n",
    "                    break\n",
    "        if not check:\n",
    "            right_p -= 1\n",
    "                    \n",
    "\n",
    "\n",
    "for idx in reversed(range(len(val))):\n",
    "    if val[idx] == ('.', 0):\n",
    "        val.pop(idx)\n",
    "        \n",
    "checksum = 0\n",
    "idx = 0\n",
    "for i in val:\n",
    "    for j in range(i[1]):\n",
    "        if i[0] != '.':\n",
    "            checksum += idx * i[0]\n",
    "        idx += 1\n",
    "    \n",
    "checksum"
   ]
  },
  {
   "cell_type": "markdown",
   "id": "1b2af55f-d7c8-4f05-a559-eaa99b574d5c",
   "metadata": {},
   "source": [
    "# Day 10 "
   ]
  },
  {
   "cell_type": "code",
   "execution_count": 59,
   "id": "8ed9e277-eed5-4648-b32d-cae5a8f364b8",
   "metadata": {},
   "outputs": [
    {
     "data": {
      "text/plain": [
       "489"
      ]
     },
     "execution_count": 59,
     "metadata": {},
     "output_type": "execute_result"
    }
   ],
   "source": [
    "result = [i for i in open('data/day10.txt').read().split(\"\\n\") if i != '']\n",
    "\n",
    "def get(col, row):\n",
    "    if col < 0 or col >= len(result) or row < 0 or row >= len(result[0]):\n",
    "        return None\n",
    "    else:\n",
    "        return int(result[col][row])\n",
    "        \n",
    "final_paths = set()\n",
    "def traverse(col, row, path):\n",
    "    path = path + ((col,row),)\n",
    "    val = get(col, row)\n",
    "    if val == 9:\n",
    "        final_paths.add((path[0], path[-1]))\n",
    "\n",
    "    next_val = val+1\n",
    "\n",
    "    # go north\n",
    "    if get(col-1, row) == next_val:\n",
    "        traverse(col-1, row, path)\n",
    "\n",
    "    if get(col, row+1) == next_val:\n",
    "        traverse(col, row+1, path)\n",
    "\n",
    "    if get(col+1, row) == next_val:\n",
    "        traverse(col+1, row, path)\n",
    "\n",
    "    if get(col, row-1) == next_val:\n",
    "        traverse(col, row-1, path)\n",
    "\n",
    "    return None\n",
    "\n",
    "for col, value in enumerate(result):\n",
    "    for row, item in enumerate(value):\n",
    "        if get(col, row) == 0:\n",
    "            traverse(col, row, tuple())\n",
    "len(final_paths)"
   ]
  },
  {
   "cell_type": "code",
   "execution_count": 60,
   "id": "97256037-44aa-45cb-a5c8-70239bf228c0",
   "metadata": {},
   "outputs": [
    {
     "data": {
      "text/plain": [
       "1086"
      ]
     },
     "execution_count": 60,
     "metadata": {},
     "output_type": "execute_result"
    }
   ],
   "source": [
    "result = [i for i in open('data/day10.txt').read().split(\"\\n\") if i != '']\n",
    "\n",
    "def get(col, row):\n",
    "    if col < 0 or col >= len(result) or row < 0 or row >= len(result[0]):\n",
    "        return None\n",
    "    else:\n",
    "        return int(result[col][row])\n",
    "        \n",
    "final_paths = set()\n",
    "def traverse(col, row, path):\n",
    "    path = path + ((col,row),)\n",
    "    val = get(col, row)\n",
    "    if val == 9:\n",
    "        final_paths.add(path)\n",
    "\n",
    "    next_val = val+1\n",
    "\n",
    "    # go north\n",
    "    if get(col-1, row) == next_val:\n",
    "        traverse(col-1, row, path)\n",
    "\n",
    "    if get(col, row+1) == next_val:\n",
    "        traverse(col, row+1, path)\n",
    "\n",
    "    if get(col+1, row) == next_val:\n",
    "        traverse(col+1, row, path)\n",
    "\n",
    "    if get(col, row-1) == next_val:\n",
    "        traverse(col, row-1, path)\n",
    "\n",
    "    return None\n",
    "\n",
    "for col, value in enumerate(result):\n",
    "    for row, item in enumerate(value):\n",
    "        if get(col, row) == 0:\n",
    "            traverse(col, row, tuple())\n",
    "\n",
    "len(final_paths)"
   ]
  },
  {
   "cell_type": "markdown",
   "id": "43ccf1b3-2d5f-4238-b3f1-f086e5c4ec21",
   "metadata": {},
   "source": [
    "# Day 11"
   ]
  },
  {
   "cell_type": "code",
   "execution_count": 1,
   "id": "9c2202ac-f731-41c1-a0d4-786be2107910",
   "metadata": {},
   "outputs": [
    {
     "name": "stdout",
     "output_type": "stream",
     "text": [
      "203228\n"
     ]
    }
   ],
   "source": [
    "result = open('data/day11.txt').read().strip().split()\n",
    "from functools import lru_cache\n",
    "from itertools import chain\n",
    "\n",
    "def get_next(number):\n",
    "    if number == '0':\n",
    "        return ['1']\n",
    "    elif len(number)%2 == 0:\n",
    "        split = int(len(number)/2)\n",
    "        return [str(int(number[:split])), str(int(number[split:]))]\n",
    "    else:\n",
    "        return [str(int(number)*2024)]\n",
    "\n",
    "\n",
    "for _ in range(25):\n",
    "    result = list(chain(*[get_next(i) for i in result]))\n",
    "print(len(result))"
   ]
  },
  {
   "cell_type": "code",
   "execution_count": 2,
   "id": "18201c98-85b4-453d-ac4e-3c50c5e9a74e",
   "metadata": {},
   "outputs": [
    {
     "data": {
      "text/plain": [
       "240884656550923"
      ]
     },
     "execution_count": 2,
     "metadata": {},
     "output_type": "execute_result"
    }
   ],
   "source": [
    "result = open('data/day11.txt').read().strip().split()\n",
    "from functools import lru_cache\n",
    "from collections import Counter\n",
    "\n",
    "@lru_cache(maxsize=1024)\n",
    "def get_next(number):\n",
    "    counter = Counter()\n",
    "    if number == '0':\n",
    "        counter.update(['1'])\n",
    "    elif len(number)%2 == 0:\n",
    "        split = int(len(number)/2)\n",
    "        counter.update([str(int(number[:split])), str(int(number[split:]))])\n",
    "    else:\n",
    "        counter.update([str(int(number)*2024)])\n",
    "    return counter\n",
    "\n",
    "def scale(internal, scaler):\n",
    "    internal = internal.copy()\n",
    "    for k, v in internal.items():\n",
    "        internal[k] = v * scaler\n",
    "    return internal\n",
    "    \n",
    "def get_75(number):\n",
    "    counter = Counter()\n",
    "    counter[number] = 1\n",
    "    for i in range(75):\n",
    "        final = Counter()\n",
    "        for k, v in counter.items():\n",
    "            new_count = get_next(k)\n",
    "            new_count = scale(new_count, v)\n",
    "            final += new_count\n",
    "        counter = final\n",
    "\n",
    "    total = 0\n",
    "    for k, v in counter.items():\n",
    "        total += v\n",
    "    return total\n",
    "\n",
    "sum([get_75(i) for i in result])"
   ]
  },
  {
   "cell_type": "markdown",
   "id": "49b6f261-989f-492d-96a3-a26c97253995",
   "metadata": {},
   "source": [
    "# Day 12"
   ]
  },
  {
   "cell_type": "code",
   "execution_count": 3,
   "id": "6470d675-8aa4-4402-a9b4-8d3f2c6f20e0",
   "metadata": {},
   "outputs": [
    {
     "data": {
      "text/plain": [
       "1437300"
      ]
     },
     "execution_count": 3,
     "metadata": {},
     "output_type": "execute_result"
    }
   ],
   "source": [
    "result = [i for i in open('data/day12.txt').read().split(\"\\n\") if i != \"\"]\n",
    "\n",
    "def get(col, row):\n",
    "    if col < 0 or col >= len(result) or row < 0 or row >= len(result[0]):\n",
    "        return None\n",
    "    else:\n",
    "        return result[col][row]\n",
    "\n",
    "def adjacent(col, row):\n",
    "    adjacent = [\n",
    "        (col-1, row),\n",
    "        (col, row+1),\n",
    "        (col+1, row),\n",
    "        (col, row-1)\n",
    "    ]\n",
    "    return [i for i in adjacent if get(*i) is not None]\n",
    "\n",
    "regions = []\n",
    "def build_region(col, row):\n",
    "    letter = get(col, row)\n",
    "    coords = set()\n",
    "    coords.add((col, row))\n",
    "    tracked = set()\n",
    "\n",
    "    while True:\n",
    "        if coords == tracked:\n",
    "            return letter, coords\n",
    "        else: \n",
    "            remaining = list(coords - tracked)\n",
    "            coord = remaining[0]\n",
    "            adjacent_coords = [i for i in adjacent(*coord) if get(*i) == letter]\n",
    "            tracked.add(coord)\n",
    "            for i in adjacent_coords:\n",
    "                coords.add(i)\n",
    "\n",
    "done = set()\n",
    "for col, value in enumerate(result):\n",
    "    for row, val in enumerate(value):\n",
    "        if (col, row) not in done:\n",
    "            region = build_region(col, row)\n",
    "            regions.append(region)\n",
    "            for i in region[1]:\n",
    "                done.add(i)\n",
    "\n",
    "def area_perimeter(coords):\n",
    "    area = len(coords)\n",
    "    adjacent_sets = set()\n",
    "    for coord in coords:\n",
    "        adjacency = adjacent(*coord)\n",
    "        for c in adjacency:\n",
    "            if c in coords:\n",
    "                pair = tuple(sorted([coord, c]))\n",
    "                adjacent_sets.add(pair)\n",
    "    perimeter = len(coords) * 4 - (2 * len(adjacent_sets))\n",
    "    return area, perimeter\n",
    "        \n",
    "\n",
    "cost = 0\n",
    "for region in regions:\n",
    "    area, perimeter = area_perimeter(region[1])\n",
    "    # print(region[0], area, perimeter, area * perimeter)\n",
    "    cost += area * perimeter\n",
    "\n",
    "cost"
   ]
  },
  {
   "cell_type": "code",
   "execution_count": 4,
   "id": "514561b7-dbab-439b-80a4-75fb23cad784",
   "metadata": {},
   "outputs": [
    {
     "data": {
      "text/plain": [
       "849332"
      ]
     },
     "execution_count": 4,
     "metadata": {},
     "output_type": "execute_result"
    }
   ],
   "source": [
    "result = [i for i in open('data/day12.txt').read().split(\"\\n\") if i != \"\"]\n",
    "\n",
    "def get(col, row, area):\n",
    "    if col < 0 or col >= len(area) or row < 0 or row >= len(area[0]):\n",
    "        return None\n",
    "    else:\n",
    "        return area[col][row]\n",
    "\n",
    "def adjacent(col, row, area):\n",
    "    adjacent = [\n",
    "        (col-1, row),\n",
    "        (col, row+1),\n",
    "        (col+1, row),\n",
    "        (col, row-1)\n",
    "    ]\n",
    "    return [i for i in adjacent if get(*i, area) is not None]\n",
    "\n",
    "def build_region(col, row, area):\n",
    "    letter = get(col, row, area)\n",
    "    coords = set()\n",
    "    coords.add((col, row))\n",
    "    tracked = set()\n",
    "\n",
    "    while True:\n",
    "        if coords == tracked:\n",
    "            return letter, coords\n",
    "        else: \n",
    "            remaining = list(coords - tracked)\n",
    "            coord = remaining[0]\n",
    "            adjacent_coords = [i for i in adjacent(*coord, area) if get(*i, area) == letter]\n",
    "            tracked.add(coord)\n",
    "            for i in adjacent_coords:\n",
    "                coords.add(i)\n",
    "\n",
    "def build_regions(area):\n",
    "    regions = []\n",
    "    done = set()\n",
    "    for col, value in enumerate(area):\n",
    "        for row, val in enumerate(value):\n",
    "            if (col, row) not in done:\n",
    "                region = build_region(col, row, area)\n",
    "                regions.append(region)\n",
    "                for i in region[1]:\n",
    "                    done.add(i)\n",
    "\n",
    "    return regions\n",
    "\n",
    "def get_perimeter(region):\n",
    "    cornerpoints = set()\n",
    "    coords = region[1]\n",
    "    for coord in coords:\n",
    "        if len(cornerpoints) == 0:\n",
    "            for direction in ['T', 'B', 'R', 'L']:\n",
    "                cornerpoints.add((direction, coord))\n",
    "        else:\n",
    "            for direction in ['T', 'B', 'R', 'L']:\n",
    "                new_direction = (direction, coord)\n",
    "\n",
    "                if direction == 'T':\n",
    "                    new_equivalent = ('B', (coord[0]-1, coord[1]))\n",
    "                if direction == 'B':\n",
    "                    new_equivalent = ('T', (coord[0]+1, coord[1]))\n",
    "                if direction == 'R':\n",
    "                    new_equivalent = ('L', (coord[0], coord[1]+1))\n",
    "                if direction == 'L':\n",
    "                    new_equivalent = ('R', (coord[0], coord[1]-1))\n",
    "\n",
    "                if new_equivalent in cornerpoints:\n",
    "                    cornerpoints.remove(new_equivalent)\n",
    "                else:\n",
    "                    cornerpoints.add(new_direction)\n",
    "    \n",
    "    # find continous lines:\n",
    "    continuous_lines = []\n",
    "    checked_points = set()\n",
    "    for direction in ['B', 'L', 'R', 'T']:\n",
    "        relevant_points = [i for i in cornerpoints if i[0] == direction]\n",
    "\n",
    "        if len(relevant_points)>0:\n",
    "            if direction == 'B' or direction == 'T':\n",
    "                relevant_points = sorted(relevant_points, key=lambda x: (x[1][0], x[1][1]) )\n",
    "                continuous_line = [relevant_points[0]]\n",
    "                last_point = relevant_points[0]\n",
    "                for point in relevant_points[1:]:\n",
    "                    next_point = (last_point[1][0], last_point[1][1]+1)\n",
    "                    # if not the next point, line is not continuous and purged\n",
    "                    if next_point != point[1]:\n",
    "                        continuous_lines.append(continuous_line)\n",
    "                        last_point = point\n",
    "                        continuous_line = [point]\n",
    "                    else:\n",
    "                        continuous_line.append(point)\n",
    "                        last_point = point\n",
    "                continuous_lines.append(continuous_line)\n",
    "            if direction == 'R' or direction == 'L':\n",
    "                relevant_points = sorted(relevant_points, key=lambda x: (x[1][1], x[1][0]))\n",
    "                # print(relevant_points)\n",
    "                continuous_line = [relevant_points[0]]\n",
    "                last_point = relevant_points[0]\n",
    "                for point in relevant_points[1:]:\n",
    "                    next_point = (last_point[1][0]+1, last_point[1][1])\n",
    "                    # print(direction, last_point[1], next_point, point[1])\n",
    "                    if next_point != point[1]:\n",
    "                        continuous_lines.append(continuous_line)\n",
    "                        last_point = point\n",
    "                        continuous_line = [point]\n",
    "                    else:\n",
    "                        continuous_line.append(point)\n",
    "                        last_point = point\n",
    "                continuous_lines.append(continuous_line)\n",
    "    return len(continuous_lines)\n",
    "\n",
    "def area_perimeter(region):\n",
    "    area = len(region)\n",
    "    perimeter = get_perimeter(region)\n",
    "    return area, perimeter\n",
    "        \n",
    "\n",
    "cost = 0\n",
    "regions = build_regions(result)\n",
    "for region in regions:\n",
    "    area, perimeter = len(region[1]), get_perimeter(region)\n",
    "    # print(region[0], area, perimeter, area * perimeter)\n",
    "    cost += area * perimeter\n",
    "\n",
    "cost"
   ]
  },
  {
   "cell_type": "code",
   "execution_count": null,
   "id": "8f4c4d96-b8a4-47db-93fe-0b1b63084f78",
   "metadata": {},
   "outputs": [],
   "source": []
  }
 ],
 "metadata": {
  "kernelspec": {
   "display_name": "Python 3 (ipykernel)",
   "language": "python",
   "name": "python3"
  },
  "language_info": {
   "codemirror_mode": {
    "name": "ipython",
    "version": 3
   },
   "file_extension": ".py",
   "mimetype": "text/x-python",
   "name": "python",
   "nbconvert_exporter": "python",
   "pygments_lexer": "ipython3",
   "version": "3.13.0"
  }
 },
 "nbformat": 4,
 "nbformat_minor": 5
}
