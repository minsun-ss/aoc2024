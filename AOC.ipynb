{
 "cells": [
  {
   "cell_type": "code",
   "execution_count": 1,
   "id": "906354cc-e75f-4d3a-adca-355312449412",
   "metadata": {},
   "outputs": [
    {
     "data": {
      "text/plain": [
       "1603498"
      ]
     },
     "execution_count": 1,
     "metadata": {},
     "output_type": "execute_result"
    }
   ],
   "source": [
    "result = [int(i.split()[0]) for i in open('data/day1.txt').read().split(\"\\n\") if i != \"\"]\n",
    "result2 = [int(i.split()[1]) for i in open('data/day1.txt').read().split(\"\\n\") if i != \"\"]\n",
    "\n",
    "sum([abs(i-j) for i, j in zip(sorted(result), sorted(result2))])"
   ]
  },
  {
   "cell_type": "code",
   "execution_count": 2,
   "id": "3fd44182-92a5-4cdd-8cc7-5e3a2d821aea",
   "metadata": {},
   "outputs": [
    {
     "data": {
      "text/plain": [
       "25574739"
      ]
     },
     "execution_count": 2,
     "metadata": {},
     "output_type": "execute_result"
    }
   ],
   "source": [
    "total = 0\n",
    "\n",
    "for i in result:\n",
    "    counter = sum([1 for j in result2 if i==j])\n",
    "    total += i * counter\n",
    "\n",
    "total"
   ]
  },
  {
   "cell_type": "code",
   "execution_count": 27,
   "id": "37c83c1a-ba51-4082-8fcd-7281fc30231c",
   "metadata": {},
   "outputs": [
    {
     "data": {
      "text/plain": [
       "591"
      ]
     },
     "execution_count": 27,
     "metadata": {},
     "output_type": "execute_result"
    }
   ],
   "source": [
    "\n",
    "result = [[int(j) for j in i.split()] for i in open('data/day2.txt').read().split(\"\\n\") if i != \"\"]\n",
    "\n",
    "safe = []\n",
    "for row in result:\n",
    "    if row == sorted(row) or row == sorted(row, reverse=True):\n",
    "        # print(row)\n",
    "        unsafe = False\n",
    "        for a, b in zip(row, row[1:]):\n",
    "            if abs(a-b) > 3 or a==b:\n",
    "                # print(a, b)\n",
    "                unsafe = True\n",
    "                continue\n",
    "        if not unsafe:\n",
    "            # print(row)\n",
    "            safe.append(row)\n",
    "    else:\n",
    "        pass\n",
    "\n",
    "len(safe)"
   ]
  },
  {
   "cell_type": "code",
   "execution_count": 39,
   "id": "ee49e9eb-e2b4-4374-9056-e8b48748c665",
   "metadata": {},
   "outputs": [
    {
     "data": {
      "text/plain": [
       "621"
      ]
     },
     "execution_count": 39,
     "metadata": {},
     "output_type": "execute_result"
    }
   ],
   "source": [
    "\n",
    "result = [[int(j) for j in i.split()] for i in open('data/day2.txt').read().split(\"\\n\") if i != \"\"]\n",
    "\n",
    "def is_safe(row):\n",
    "    if row == sorted(row) or row == sorted(row, reverse=True):\n",
    "        # print(row)\n",
    "        unsafe = False\n",
    "        for a, b in zip(row, row[1:]):\n",
    "            if abs(a-b) > 3 or a==b:\n",
    "                # print(a, b)\n",
    "                unsafe = True\n",
    "                continue\n",
    "        if not unsafe:\n",
    "            # print(row)\n",
    "            return True\n",
    "    else:\n",
    "        return False\n",
    "        \n",
    "safe = []\n",
    "for row in result:\n",
    "    if is_safe(row):\n",
    "        safe.append(row)\n",
    "    else:\n",
    "        for i in range(len(row)):\n",
    "            subrow = row[:i]+row[i+1:]\n",
    "            if is_safe(subrow):\n",
    "                safe.append(row)\n",
    "                break\n",
    "\n",
    "len(safe)"
   ]
  },
  {
   "cell_type": "code",
   "execution_count": 50,
   "id": "3be76245-9122-4972-9197-a0f16e26b9ac",
   "metadata": {},
   "outputs": [
    {
     "data": {
      "text/plain": [
       "179834255"
      ]
     },
     "execution_count": 50,
     "metadata": {},
     "output_type": "execute_result"
    }
   ],
   "source": [
    "result = [i for i in open('data/day3.txt').read().split(\"\\n\") if i != \"\"]\n",
    "\n",
    "import re\n",
    "\n",
    "sum = 0\n",
    "for i in result:\n",
    "    val = re.findall(r\"mul\\(\\d+,\\d+\\)\", i)\n",
    "    for mul in val:\n",
    "        num1, num2 = mul.replace(\"mul(\", \"\").replace(\")\", \"\").split(\",\")\n",
    "        sum += int(num1) * int(num2)\n",
    "sum"
   ]
  },
  {
   "cell_type": "code",
   "execution_count": 2,
   "id": "500ca811-1410-488d-98b0-4f1299600046",
   "metadata": {},
   "outputs": [
    {
     "data": {
      "text/plain": [
       "0"
      ]
     },
     "execution_count": 2,
     "metadata": {},
     "output_type": "execute_result"
    }
   ],
   "source": [
    "result = [i for i in open('data/test.txt').read().split(\"\\n\") if i != \"\"]\n",
    "\n",
    "import re\n",
    "\n",
    "sum = 0\n",
    "do = True\n",
    "for i in result:\n",
    "    vals = re.findall(r\"mul\\(\\d+,\\d+\\)|do\\(\\)|don't\\(\\)\", i)\n",
    "    for val in vals:\n",
    "        if 'mul' in val and do:\n",
    "            num1, num2 = val.replace(\"mul(\", \"\").replace(\")\", \"\").split(\",\")\n",
    "            sum += int(num1) * int(num2)\n",
    "        elif val == \"don't()\":\n",
    "            do = False\n",
    "        elif val == \"do()\":\n",
    "            do = True\n",
    "sum"
   ]
  },
  {
   "cell_type": "code",
   "execution_count": 62,
   "id": "c84791af-3b80-43a9-a615-00f70c3ab903",
   "metadata": {},
   "outputs": [
    {
     "data": {
      "text/plain": [
       "2642"
      ]
     },
     "execution_count": 62,
     "metadata": {},
     "output_type": "execute_result"
    }
   ],
   "source": [
    "result = [i for i in open('data/day4.txt').read().split(\"\\n\") if i != \"\"]\n",
    "result\n",
    "\n",
    "def get_val(col, row):\n",
    "    return result[col][row]\n",
    "\n",
    "def check_letter(col, row, letter):\n",
    "    if col < 0 or col >= len(result):\n",
    "        return False\n",
    "    elif row < 0 or row >= len(result[0]):\n",
    "        return False\n",
    "    else:\n",
    "        v = get_val(col, row)\n",
    "        if v == letter:\n",
    "            return True\n",
    "        else:\n",
    "            return False\n",
    "            \n",
    "def find(col, row):\n",
    "    total = 0\n",
    "    horizontal = [[col, row+1], [col, row+2], [col, row+3]]\n",
    "    bhorizontal = [[col, row-1], [col, row-2], [col, row-3]]\n",
    "    vertical = [[col+1, row], [col+2, row], [col+3, row]]\n",
    "    bvertical = [[col-1, row], [col-2, row], [col-3, row]]\n",
    "    diagonal = [[col+1, row+1], [col+2, row+2], [col+3, row+3]]\n",
    "    bdiagonal = [[col-1, row-1], [col-2, row-2], [col-3, row-3]]\n",
    "    diagonal2 = [[col-1, row+1], [col-2, row+2], [col-3, row+3]]\n",
    "    bdiagonal2 = [[col+1, row-1], [col+2, row-2], [col+3, row-3]]\n",
    "\n",
    "    groups = [horizontal, bhorizontal, vertical, bvertical, diagonal, bdiagonal, diagonal2, bdiagonal2]\n",
    "\n",
    "    for group in groups:\n",
    "        a, b = group[0]\n",
    "        if check_letter(a, b, 'M'):\n",
    "            c, d = group[1]\n",
    "            if check_letter(c, d, 'A'):\n",
    "                e, f = group[2]\n",
    "                if check_letter(e, f, 'S'):\n",
    "                    total +=1\n",
    "    return total\n",
    "        \n",
    "sum = 0\n",
    "for col, data in enumerate(result):\n",
    "    for row, val in enumerate(data):\n",
    "        if val == 'X':\n",
    "            # print(\"find\", col, row)\n",
    "            res = find(col, row)\n",
    "            # print(res, col, row)\n",
    "            sum += res\n",
    "sum"
   ]
  },
  {
   "cell_type": "code",
   "execution_count": 7,
   "id": "31d6ea43-f8d0-49ba-a525-bcb9afb81a44",
   "metadata": {},
   "outputs": [
    {
     "data": {
      "text/plain": [
       "1327"
      ]
     },
     "execution_count": 7,
     "metadata": {},
     "output_type": "execute_result"
    }
   ],
   "source": [
    "result = [i for i in open('data/day4.txt').read().split(\"\\n\") if i != \"\"]\n",
    "result\n",
    "\n",
    "def get_val(col, row):\n",
    "    return result[col][row]\n",
    "\n",
    "def check_letter(col, row):\n",
    "    if col < 0 or col >= len(result):\n",
    "        return None\n",
    "    elif row < 0 or row >= len(result[0]):\n",
    "        return None\n",
    "    else:\n",
    "        v = get_val(col, row)\n",
    "        return v\n",
    "            \n",
    "def find(col, row):\n",
    "    total = 0\n",
    "    x = [[col-1, row-1], [col-1, row+1], [col+1, row+1], [col+1, row+1]]\n",
    "\n",
    "    result = [check_letter(i,j) for i, j in x]\n",
    "    # print(result)\n",
    "    if result in [['M', 'S', 'M', 'S'], ['S', 'M', 'S', 'M'], ['S', 'S', 'M', 'M'], ['M', 'M', 'S', 'S']]:\n",
    "        return True\n",
    "    else:\n",
    "        return False\n",
    "    \n",
    "sum = 0\n",
    "for col, data in enumerate(result):\n",
    "    for row, val in enumerate(data):\n",
    "        if val == 'A':\n",
    "            res = find(col, row)\n",
    "            if res:\n",
    "                sum += 1\n",
    "sum"
   ]
  },
  {
   "cell_type": "code",
   "execution_count": 30,
   "id": "dfd5ea70-1100-4668-839a-1ba759677a4c",
   "metadata": {},
   "outputs": [
    {
     "data": {
      "text/plain": [
       "4872"
      ]
     },
     "execution_count": 30,
     "metadata": {},
     "output_type": "execute_result"
    }
   ],
   "source": [
    "import math\n",
    "\n",
    "result = [i for i in open('data/day5.txt').read().split(\"\\n\") if i != \"\"]\n",
    "rules = [i.split('|') for i in result if '|' in i]\n",
    "numbers = [i.split(',') for i in result if '|' not in i]\n",
    "\n",
    "def is_valid(numlist):\n",
    "    for num in numlist:\n",
    "        for left, right in rules:\n",
    "            if num == left:\n",
    "                try:\n",
    "                    if numlist.index(num) < numlist.index(right):\n",
    "                        pass\n",
    "                    else:\n",
    "                        return False\n",
    "                except:\n",
    "                    pass\n",
    "    return True\n",
    "\n",
    "sum = 0\n",
    "for numlist in numbers:\n",
    "    if is_valid(numlist):\n",
    "        idx = math.ceil(len(numlist)/2) -1\n",
    "        # print(idx,numlist[idx])\n",
    "        sum += int(numlist[idx])\n",
    "    # print(numlist, is_valid(numlist))\n",
    "\n",
    "sum"
   ]
  },
  {
   "cell_type": "code",
   "execution_count": 46,
   "id": "f2fb687a-8c69-4466-9abc-b2e32aa5ad72",
   "metadata": {},
   "outputs": [
    {
     "data": {
      "text/plain": [
       "5564"
      ]
     },
     "execution_count": 46,
     "metadata": {},
     "output_type": "execute_result"
    }
   ],
   "source": [
    "import math\n",
    "\n",
    "result = [i for i in open('data/day5.txt').read().split(\"\\n\") if i != \"\"]\n",
    "rules = [i.split('|') for i in result if '|' in i]\n",
    "numbers = [i.split(',') for i in result if '|' not in i]\n",
    "\n",
    "def is_valid(numlist):\n",
    "    for num in numlist:\n",
    "        for left, right in rules:\n",
    "            if num == left:\n",
    "                try:\n",
    "                    if numlist.index(num) < numlist.index(right):\n",
    "                        pass\n",
    "                    else:\n",
    "                        return False\n",
    "                except:\n",
    "                    pass\n",
    "    return True\n",
    "\n",
    "def reorder(numlist):\n",
    "    for num in numlist:\n",
    "        for left, right in rules:\n",
    "            if num == left:\n",
    "                try:\n",
    "                    left_idx = numlist.index(num)\n",
    "                    right_idx = numlist.index(right)\n",
    "                    if left_idx < right_idx:\n",
    "                        pass\n",
    "                    else:\n",
    "                        numlist[left_idx], numlist[right_idx] = numlist[right_idx], numlist[left_idx]\n",
    "                except:\n",
    "                    pass\n",
    "\n",
    "    return numlist\n",
    "\n",
    "sum = 0\n",
    "for numlist in numbers:\n",
    "    if not is_valid(numlist):\n",
    "        while not is_valid(numlist):\n",
    "            numlist = reorder(numlist)\n",
    "        # print(numlist, is_valid(numlist))\n",
    "        idx = math.ceil(len(numlist)/2) -1\n",
    "        sum += int(numlist[idx])\n",
    "\n",
    "sum"
   ]
  },
  {
   "cell_type": "code",
   "execution_count": 78,
   "id": "d8f35ca2-3a19-4643-a238-dd1d8d654922",
   "metadata": {},
   "outputs": [
    {
     "data": {
      "text/plain": [
       "5269"
      ]
     },
     "execution_count": 78,
     "metadata": {},
     "output_type": "execute_result"
    }
   ],
   "source": [
    "result = [i for i in open('data/day6.txt').read().split(\"\\n\") if i != \"\"]\n",
    "moves = set()\n",
    "\n",
    "def move(col, row, direction):\n",
    "    moves.add((col,row))\n",
    "    if direction == 'n':\n",
    "        ncol, nrow = col-1, row\n",
    "    elif direction == 's':\n",
    "        ncol, nrow = col+1, row\n",
    "    elif direction == 'e':\n",
    "        ncol, nrow = col, row+1\n",
    "    elif direction == 'w':\n",
    "        ncol, nrow = col, row-1\n",
    "\n",
    "    if ncol < 0 or ncol >= len(result) or nrow < 0 or nrow >= len(result[0]):\n",
    "        return None, None, None\n",
    "\n",
    "    new_spot_val = result[ncol][nrow]\n",
    "\n",
    "    if new_spot_val != '#':\n",
    "        return ncol, nrow, direction\n",
    "    else:\n",
    "        if direction == 'n':\n",
    "            ndirection = 'e'\n",
    "        elif direction == 'e':\n",
    "            ndirection = 's'\n",
    "        elif direction == 's':\n",
    "            ndirection = 'w'\n",
    "        elif direction == 'w':\n",
    "            ndirection = 'n'\n",
    "        return col, row, ndirection\n",
    "        \n",
    "def current_location(): \n",
    "    for col, item in enumerate(result):\n",
    "        for row, val in enumerate(item):\n",
    "            if val == '^':\n",
    "                return col, row, 'n'\n",
    "            elif val == '>':\n",
    "                return col, row, 'e'\n",
    "            elif val == 'v':\n",
    "                return col, row, 's'\n",
    "            elif val == '<':\n",
    "                return col, row, 'w'\n",
    "\n",
    "row, col, loc = current_location()\n",
    "val = 1\n",
    "while True:\n",
    "    # print(row, col, loc)\n",
    "    row, col, loc = move(row, col, loc)\n",
    "    if row is None:\n",
    "        break\n",
    "\n",
    "len(moves)"
   ]
  },
  {
   "cell_type": "code",
   "execution_count": 119,
   "id": "e91d5028-cdad-430a-8867-1548f5d12282",
   "metadata": {},
   "outputs": [
    {
     "data": {
      "text/plain": [
       "1957"
      ]
     },
     "execution_count": 119,
     "metadata": {},
     "output_type": "execute_result"
    }
   ],
   "source": [
    "orig_result = [i for i in open('data/day6.txt').read().split(\"\\n\") if i != \"\"]\n",
    "result = result.copy()\n",
    "\n",
    "def move(col, row, direction):    \n",
    "    if direction == 'n':\n",
    "        ncol, nrow = col-1, row\n",
    "    elif direction == 's':\n",
    "        ncol, nrow = col+1, row\n",
    "    elif direction == 'e':\n",
    "        ncol, nrow = col, row+1\n",
    "    elif direction == 'w':\n",
    "        ncol, nrow = col, row-1\n",
    "\n",
    "    if ncol < 0 or ncol >= len(result) or nrow < 0 or nrow >= len(result[0]):\n",
    "        return None, None, None\n",
    "\n",
    "    new_spot_val = result[ncol][nrow]\n",
    "    # if ncol == 6 and nrow == 3:\n",
    "    #     print(result)\n",
    "\n",
    "    if new_spot_val != '#':\n",
    "        return ncol, nrow, direction\n",
    "    else:\n",
    "        if direction == 'n':\n",
    "            ndirection = 'e'\n",
    "        elif direction == 'e':\n",
    "            ndirection = 's'\n",
    "        elif direction == 's':\n",
    "            ndirection = 'w'\n",
    "        elif direction == 'w':\n",
    "            ndirection = 'n'\n",
    "        return col, row, ndirection\n",
    "        \n",
    "def current_location(): \n",
    "    for col, item in enumerate(result):\n",
    "        for row, val in enumerate(item):\n",
    "            if val == '^':\n",
    "                return col, row, 'n'\n",
    "            elif val == '>':\n",
    "                return col, row, 'e'\n",
    "            elif val == 'v':\n",
    "                return col, row, 's'\n",
    "            elif val == '<':\n",
    "                return col, row, 'w'\n",
    "\n",
    "def check_count():\n",
    "    global result\n",
    "\n",
    "    infinite = 0\n",
    "    for c, item in enumerate(result):\n",
    "        for r, val in enumerate(item):\n",
    "            count = 0 \n",
    "            result = orig_result.copy()\n",
    "            col, row, loc = current_location()\n",
    "            # print(c, r)\n",
    "            if ((c != col) or (r != row)):\n",
    "                result[c] = result[c][:r] + '#' + result[c][r+1:]\n",
    "                # print(c, r, result)\n",
    "\n",
    "                while True:\n",
    "                    count += 1\n",
    "                    # print(col, row, loc)\n",
    "                    col, row, loc = move(col, row, loc)\n",
    "                    if row is None:\n",
    "                        break\n",
    "                    elif count > 1000000:\n",
    "                        #print(c, r, \"infinite\")\n",
    "                        infinite +=1 \n",
    "                        break\n",
    "    return infinite\n",
    "    \n",
    "check_count()"
   ]
  },
  {
   "cell_type": "code",
   "execution_count": 152,
   "id": "58f3d3be-942e-4609-ae3c-e0cf0a42e051",
   "metadata": {},
   "outputs": [
    {
     "data": {
      "text/plain": [
       "5837374519342"
      ]
     },
     "execution_count": 152,
     "metadata": {},
     "output_type": "execute_result"
    }
   ],
   "source": [
    "from itertools import product\n",
    "\n",
    "result = [i.split(\":\") for i in open('data/day7.txt').read().split(\"\\n\") if i != \"\"]\n",
    "\n",
    "matchcount = 0\n",
    "for final, values in result:\n",
    "    final = int(final)\n",
    "    values = [i.strip() for i in values.split()]\n",
    "    combos = list(product([\"+\", \"*\"], repeat=len(values)-1))\n",
    "    for combo in combos:\n",
    "        start = values[0]\n",
    "        for i, j  in zip(combo, values[1:]):\n",
    "            start = eval(str(start) + i + j)\n",
    "        if start == final:\n",
    "            matchcount += final\n",
    "            break\n",
    "\n",
    "matchcount"
   ]
  },
  {
   "cell_type": "code",
   "execution_count": 1,
   "id": "0eebb520-8437-4dce-8e81-dba069b0db69",
   "metadata": {},
   "outputs": [
    {
     "data": {
      "text/plain": [
       "492383931650959"
      ]
     },
     "execution_count": 1,
     "metadata": {},
     "output_type": "execute_result"
    }
   ],
   "source": [
    "from itertools import product\n",
    "\n",
    "result = [i.split(\":\") for i in open('data/day7.txt').read().split(\"\\n\") if i != \"\"]\n",
    "\n",
    "matchcount = 0\n",
    "for final, values in result:\n",
    "    final = int(final)\n",
    "    values = [i.strip() for i in values.split()]\n",
    "    combos = list(product([\"+\", \"*\", \"||\"], repeat=len(values)-1))\n",
    "    for combo in combos:\n",
    "        start = values[0]\n",
    "        for i, j  in zip(combo, values[1:]):\n",
    "            if i == \"||\":\n",
    "                start = str(start) + str(j)\n",
    "            else:\n",
    "                start = eval(str(start) + i + j)\n",
    "        if str(start) == str(final):\n",
    "            # print(\"match\", start)\n",
    "            matchcount += final\n",
    "            break\n",
    "\n",
    "matchcount"
   ]
  },
  {
   "cell_type": "code",
   "execution_count": null,
   "id": "db5b4bef-7735-4a33-a5d8-569fedeedeba",
   "metadata": {},
   "outputs": [],
   "source": []
  }
 ],
 "metadata": {
  "kernelspec": {
   "display_name": "Python 3 (ipykernel)",
   "language": "python",
   "name": "python3"
  },
  "language_info": {
   "codemirror_mode": {
    "name": "ipython",
    "version": 3
   },
   "file_extension": ".py",
   "mimetype": "text/x-python",
   "name": "python",
   "nbconvert_exporter": "python",
   "pygments_lexer": "ipython3",
   "version": "3.13.0"
  }
 },
 "nbformat": 4,
 "nbformat_minor": 5
}
