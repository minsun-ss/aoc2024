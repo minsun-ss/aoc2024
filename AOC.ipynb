{
 "cells": [
  {
   "cell_type": "code",
   "execution_count": 1,
   "id": "906354cc-e75f-4d3a-adca-355312449412",
   "metadata": {},
   "outputs": [
    {
     "data": {
      "text/plain": [
       "1603498"
      ]
     },
     "execution_count": 1,
     "metadata": {},
     "output_type": "execute_result"
    }
   ],
   "source": [
    "result = [int(i.split()[0]) for i in open('data/day1.txt').read().split(\"\\n\") if i != \"\"]\n",
    "result2 = [int(i.split()[1]) for i in open('data/day1.txt').read().split(\"\\n\") if i != \"\"]\n",
    "\n",
    "sum([abs(i-j) for i, j in zip(sorted(result), sorted(result2))])"
   ]
  },
  {
   "cell_type": "code",
   "execution_count": 2,
   "id": "3fd44182-92a5-4cdd-8cc7-5e3a2d821aea",
   "metadata": {},
   "outputs": [
    {
     "data": {
      "text/plain": [
       "25574739"
      ]
     },
     "execution_count": 2,
     "metadata": {},
     "output_type": "execute_result"
    }
   ],
   "source": [
    "total = 0\n",
    "\n",
    "for i in result:\n",
    "    counter = sum([1 for j in result2 if i==j])\n",
    "    total += i * counter\n",
    "\n",
    "total"
   ]
  },
  {
   "cell_type": "code",
   "execution_count": 27,
   "id": "37c83c1a-ba51-4082-8fcd-7281fc30231c",
   "metadata": {},
   "outputs": [
    {
     "data": {
      "text/plain": [
       "591"
      ]
     },
     "execution_count": 27,
     "metadata": {},
     "output_type": "execute_result"
    }
   ],
   "source": [
    "\n",
    "result = [[int(j) for j in i.split()] for i in open('data/day2.txt').read().split(\"\\n\") if i != \"\"]\n",
    "\n",
    "safe = []\n",
    "for row in result:\n",
    "    if row == sorted(row) or row == sorted(row, reverse=True):\n",
    "        # print(row)\n",
    "        unsafe = False\n",
    "        for a, b in zip(row, row[1:]):\n",
    "            if abs(a-b) > 3 or a==b:\n",
    "                # print(a, b)\n",
    "                unsafe = True\n",
    "                continue\n",
    "        if not unsafe:\n",
    "            # print(row)\n",
    "            safe.append(row)\n",
    "    else:\n",
    "        pass\n",
    "\n",
    "len(safe)"
   ]
  },
  {
   "cell_type": "code",
   "execution_count": 37,
   "id": "ee49e9eb-e2b4-4374-9056-e8b48748c665",
   "metadata": {},
   "outputs": [
    {
     "data": {
      "text/plain": [
       "[[7, 6, 4, 2, 1], [1, 3, 2, 4, 5], [8, 6, 4, 4, 1], [1, 3, 6, 7, 9]]"
      ]
     },
     "execution_count": 37,
     "metadata": {},
     "output_type": "execute_result"
    }
   ],
   "source": [
    "\n",
    "result = [[int(j) for j in i.split()] for i in open('data/test.txt').read().split(\"\\n\") if i != \"\"]\n",
    "\n",
    "def is_safe(row):\n",
    "    if row == sorted(row) or row == sorted(row, reverse=True):\n",
    "        # print(row)\n",
    "        unsafe = False\n",
    "        for a, b in zip(row, row[1:]):\n",
    "            if abs(a-b) > 3 or a==b:\n",
    "                # print(a, b)\n",
    "                unsafe = True\n",
    "                continue\n",
    "        if not unsafe:\n",
    "            # print(row)\n",
    "            return True\n",
    "    else:\n",
    "        return False\n",
    "        \n",
    "safe = []\n",
    "for row in result:\n",
    "    if is_safe(row):\n",
    "        safe.append(row)\n",
    "    else:\n",
    "        for i in range(len(row)):\n",
    "            subrow = row[:i]+row[i+1:]\n",
    "            if is_safe(subrow):\n",
    "                safe.append(row)\n",
    "                break\n",
    "\n",
    "safe"
   ]
  },
  {
   "cell_type": "code",
   "execution_count": null,
   "id": "3be76245-9122-4972-9197-a0f16e26b9ac",
   "metadata": {},
   "outputs": [],
   "source": []
  }
 ],
 "metadata": {
  "kernelspec": {
   "display_name": "Python 3 (ipykernel)",
   "language": "python",
   "name": "python3"
  },
  "language_info": {
   "codemirror_mode": {
    "name": "ipython",
    "version": 3
   },
   "file_extension": ".py",
   "mimetype": "text/x-python",
   "name": "python",
   "nbconvert_exporter": "python",
   "pygments_lexer": "ipython3",
   "version": "3.13.0"
  }
 },
 "nbformat": 4,
 "nbformat_minor": 5
}
